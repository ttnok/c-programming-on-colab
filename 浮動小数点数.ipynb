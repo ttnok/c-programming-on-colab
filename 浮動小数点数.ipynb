{
  "nbformat": 4,
  "nbformat_minor": 0,
  "metadata": {
    "colab": {
      "name": "浮動小数点数.ipynb",
      "provenance": [],
      "collapsed_sections": [],
      "authorship_tag": "ABX9TyPJ2aNOZlyqSqgyNSbwkH6d",
      "include_colab_link": true
    },
    "kernelspec": {
      "name": "python3",
      "display_name": "Python 3"
    },
    "language_info": {
      "name": "python"
    }
  },
  "cells": [
    {
      "cell_type": "markdown",
      "metadata": {
        "id": "view-in-github",
        "colab_type": "text"
      },
      "source": [
        "<a href=\"https://colab.research.google.com/github/ttnok/c-programming-on-colab/blob/main/%E6%B5%AE%E5%8B%95%E5%B0%8F%E6%95%B0%E7%82%B9%E6%95%B0.ipynb\" target=\"_parent\"><img src=\"https://colab.research.google.com/assets/colab-badge.svg\" alt=\"Open In Colab\"/></a>"
      ]
    },
    {
      "cell_type": "markdown",
      "metadata": {
        "id": "pty5-prBriVl"
      },
      "source": [
        "# IEEE 754 binary64 ビット列観察"
      ]
    },
    {
      "cell_type": "markdown",
      "metadata": {
        "id": "gW2pt2CcrwKK"
      },
      "source": [
        "## 16 進表示"
      ]
    },
    {
      "cell_type": "code",
      "metadata": {
        "colab": {
          "base_uri": "https://localhost:8080/"
        },
        "id": "fD0kAoj0BzeO",
        "outputId": "c686380a-09b3-4b11-f84c-5e208dad5d2a"
      },
      "source": [
        "%%file fp.c\n",
        "#include <stdio.h>\n",
        "\n",
        "int main(void)\n",
        "{\n",
        "    unsigned char b[8];\n",
        "    double *x = (double *)b;\n",
        " \n",
        "    printf(\"? \");\n",
        "    scanf(\"%lf\", x);\n",
        " \n",
        "    printf(\"b = %p\\n\", (void *)b);\n",
        "    printf(\"x = %p\\n\", (void *)x);\n",
        "    printf(\"*x = %f\\n\", *x);\n",
        "\n",
        "    printf(\"%02x %02x %02x %02x %02x %02x %02x %02x\\n\",\n",
        "           b[7], b[6], b[5], b[4], b[3], b[2], b[1], b[0]);\n",
        "\n",
        "    return 0;\n",
        "}\n",
        "\n"
      ],
      "execution_count": 1,
      "outputs": [
        {
          "output_type": "stream",
          "name": "stdout",
          "text": [
            "Writing fp.c\n"
          ]
        }
      ]
    },
    {
      "cell_type": "code",
      "metadata": {
        "id": "9gnxZOLpCyQp"
      },
      "source": [
        "!clang fp.c -o fp"
      ],
      "execution_count": 2,
      "outputs": []
    },
    {
      "cell_type": "code",
      "metadata": {
        "colab": {
          "base_uri": "https://localhost:8080/"
        },
        "id": "Pq_Ldgi3C0g_",
        "outputId": "52f7ebdd-3ed9-42ff-8d3b-75493ea9ae03"
      },
      "source": [
        "!./fp"
      ],
      "execution_count": 3,
      "outputs": [
        {
          "output_type": "stream",
          "name": "stdout",
          "text": [
            "? 1\n",
            "b = 0x7ffc43a6558c\n",
            "x = 0x7ffc43a6558c\n",
            "*x = 1.000000\n",
            "3f f0 00 00 00 00 00 00\n"
          ]
        }
      ]
    },
    {
      "cell_type": "markdown",
      "metadata": {
        "id": "9_kPIjM5r0fR"
      },
      "source": [
        "## 2 進表示"
      ]
    },
    {
      "cell_type": "code",
      "metadata": {
        "colab": {
          "base_uri": "https://localhost:8080/"
        },
        "id": "doIrvuJLLst2",
        "outputId": "3bc1a93d-5aad-40b8-a187-1ee524bbacde"
      },
      "source": [
        "%%file fp2.c\n",
        "#include <stdio.h>\n",
        "#include <stdlib.h>\n",
        "\n",
        "int main(int c, char **v)\n",
        "{\n",
        "    unsigned char b[8];\n",
        "    double *x = (double *)b;\n",
        " \n",
        "    *x = strtod(v[1], NULL);\n",
        "\n",
        "    for (int k = 0; k < 64; k++) {\n",
        "        unsigned char mask = 0x80 >> (k % 8);\n",
        "        printf(\"%d\", (b[8 - k / 8 - 1] & mask) != 0);\n",
        "\n",
        "        if (k % 4 == 3) printf(\" \");\n",
        "        if (k ==  0) printf(\" / \");\n",
        "        if (k == 11) printf(\"/ \");\n",
        "    }\n",
        "\n",
        "    return 0;\n",
        "}\n",
        "\n"
      ],
      "execution_count": 4,
      "outputs": [
        {
          "output_type": "stream",
          "name": "stdout",
          "text": [
            "Writing fp2.c\n"
          ]
        }
      ]
    },
    {
      "cell_type": "code",
      "metadata": {
        "id": "htQOe6mwILVq"
      },
      "source": [
        "!clang fp2.c -o fp2"
      ],
      "execution_count": 5,
      "outputs": []
    },
    {
      "cell_type": "code",
      "metadata": {
        "colab": {
          "base_uri": "https://localhost:8080/"
        },
        "id": "yRIpiHkkMQQ3",
        "outputId": "ffd2797a-cce7-49b2-937e-5efb142e10b5"
      },
      "source": [
        "!./fp2 1"
      ],
      "execution_count": 6,
      "outputs": [
        {
          "output_type": "stream",
          "name": "stdout",
          "text": [
            "0 / 011 1111 1111 / 0000 0000 0000 0000 0000 0000 0000 0000 0000 0000 0000 0000 0000 "
          ]
        }
      ]
    },
    {
      "cell_type": "code",
      "metadata": {
        "colab": {
          "base_uri": "https://localhost:8080/"
        },
        "id": "fU1WObLvpElo",
        "outputId": "cc8355de-2e60-4d21-df9b-778d10ac94e2"
      },
      "source": [
        "!./fp2 -1"
      ],
      "execution_count": 7,
      "outputs": [
        {
          "output_type": "stream",
          "name": "stdout",
          "text": [
            "1 / 011 1111 1111 / 0000 0000 0000 0000 0000 0000 0000 0000 0000 0000 0000 0000 0000 "
          ]
        }
      ]
    },
    {
      "cell_type": "code",
      "metadata": {
        "colab": {
          "base_uri": "https://localhost:8080/"
        },
        "id": "d3lg1Wnqu5Uw",
        "outputId": "bd8772d2-ce27-41bf-f5b3-0dc383dcce27"
      },
      "source": [
        "!./fp2 1.5"
      ],
      "execution_count": 8,
      "outputs": [
        {
          "output_type": "stream",
          "name": "stdout",
          "text": [
            "0 / 011 1111 1111 / 1000 0000 0000 0000 0000 0000 0000 0000 0000 0000 0000 0000 0000 "
          ]
        }
      ]
    },
    {
      "cell_type": "code",
      "metadata": {
        "colab": {
          "base_uri": "https://localhost:8080/"
        },
        "id": "U5XC5y8mvFfB",
        "outputId": "2175a01b-002f-4278-dbad-4be69368eb66"
      },
      "source": [
        "!./fp2 1.75"
      ],
      "execution_count": 9,
      "outputs": [
        {
          "output_type": "stream",
          "name": "stdout",
          "text": [
            "0 / 011 1111 1111 / 1100 0000 0000 0000 0000 0000 0000 0000 0000 0000 0000 0000 0000 "
          ]
        }
      ]
    },
    {
      "cell_type": "markdown",
      "metadata": {
        "id": "GvTbosWtEAmn"
      },
      "source": [
        "## +0 と -0"
      ]
    },
    {
      "cell_type": "code",
      "metadata": {
        "colab": {
          "base_uri": "https://localhost:8080/"
        },
        "id": "TYTsZmXXpEvf",
        "outputId": "bf6448d0-246c-4610-95e4-f6ffe84e6bc5"
      },
      "source": [
        "!./fp2 0"
      ],
      "execution_count": 10,
      "outputs": [
        {
          "output_type": "stream",
          "name": "stdout",
          "text": [
            "0 / 000 0000 0000 / 0000 0000 0000 0000 0000 0000 0000 0000 0000 0000 0000 0000 0000 "
          ]
        }
      ]
    },
    {
      "cell_type": "code",
      "metadata": {
        "colab": {
          "base_uri": "https://localhost:8080/"
        },
        "id": "VKYwJ3OipEzD",
        "outputId": "a69ccc4e-659e-4103-b14d-1f699c653bb7"
      },
      "source": [
        "!./fp2 -0"
      ],
      "execution_count": 11,
      "outputs": [
        {
          "output_type": "stream",
          "name": "stdout",
          "text": [
            "1 / 000 0000 0000 / 0000 0000 0000 0000 0000 0000 0000 0000 0000 0000 0000 0000 0000 "
          ]
        }
      ]
    },
    {
      "cell_type": "code",
      "metadata": {
        "colab": {
          "base_uri": "https://localhost:8080/"
        },
        "id": "rBsUQIDnpE2p",
        "outputId": "02e88574-ca1d-40be-e4a6-567ce09bddb6"
      },
      "source": [
        "!./fp2 2"
      ],
      "execution_count": 12,
      "outputs": [
        {
          "output_type": "stream",
          "name": "stdout",
          "text": [
            "0 / 100 0000 0000 / 0000 0000 0000 0000 0000 0000 0000 0000 0000 0000 0000 0000 0000 "
          ]
        }
      ]
    },
    {
      "cell_type": "code",
      "metadata": {
        "colab": {
          "base_uri": "https://localhost:8080/"
        },
        "id": "8xXgRsjypE6d",
        "outputId": "12e67ebe-83a1-40ac-ba69-2fab5bef76c8"
      },
      "source": [
        "!./fp2 3"
      ],
      "execution_count": 13,
      "outputs": [
        {
          "output_type": "stream",
          "name": "stdout",
          "text": [
            "0 / 100 0000 0000 / 1000 0000 0000 0000 0000 0000 0000 0000 0000 0000 0000 0000 0000 "
          ]
        }
      ]
    },
    {
      "cell_type": "code",
      "metadata": {
        "colab": {
          "base_uri": "https://localhost:8080/"
        },
        "id": "qe59nGTZpE93",
        "outputId": "972f19f2-45d2-4d17-b8ae-73850a5fd572"
      },
      "source": [
        "!./fp2 7"
      ],
      "execution_count": 14,
      "outputs": [
        {
          "output_type": "stream",
          "name": "stdout",
          "text": [
            "0 / 100 0000 0001 / 1100 0000 0000 0000 0000 0000 0000 0000 0000 0000 0000 0000 0000 "
          ]
        }
      ]
    },
    {
      "cell_type": "markdown",
      "metadata": {
        "id": "qBrgwlRhD1mS"
      },
      "source": [
        "## 0.1 + 0.2 と 0.3 の比較"
      ]
    },
    {
      "cell_type": "code",
      "metadata": {
        "colab": {
          "base_uri": "https://localhost:8080/"
        },
        "id": "EgR81XxVpFEd",
        "outputId": "ee1a0886-8072-4dd6-83d9-f35e603fb810"
      },
      "source": [
        "!./fp2 0.1"
      ],
      "execution_count": 15,
      "outputs": [
        {
          "output_type": "stream",
          "name": "stdout",
          "text": [
            "0 / 011 1111 1011 / 1001 1001 1001 1001 1001 1001 1001 1001 1001 1001 1001 1001 1010 "
          ]
        }
      ]
    },
    {
      "cell_type": "code",
      "metadata": {
        "colab": {
          "base_uri": "https://localhost:8080/"
        },
        "id": "YGJ2iy59rTug",
        "outputId": "4190b61e-a011-49e1-c146-e4c6712104f0"
      },
      "source": [
        "!./fp2 0.2"
      ],
      "execution_count": 16,
      "outputs": [
        {
          "output_type": "stream",
          "name": "stdout",
          "text": [
            "0 / 011 1111 1100 / 1001 1001 1001 1001 1001 1001 1001 1001 1001 1001 1001 1001 1010 "
          ]
        }
      ]
    },
    {
      "cell_type": "code",
      "metadata": {
        "colab": {
          "base_uri": "https://localhost:8080/"
        },
        "id": "Ofrs_eKTrVy0",
        "outputId": "b540b083-5a79-4d6d-b958-9f972b367ff4"
      },
      "source": [
        "!./fp2 0.3"
      ],
      "execution_count": 17,
      "outputs": [
        {
          "output_type": "stream",
          "name": "stdout",
          "text": [
            "0 / 011 1111 1101 / 0011 0011 0011 0011 0011 0011 0011 0011 0011 0011 0011 0011 0011 "
          ]
        }
      ]
    },
    {
      "cell_type": "markdown",
      "metadata": {
        "id": "-Sur9IzPDrJM"
      },
      "source": [
        "## 丸め方式確認"
      ]
    },
    {
      "cell_type": "code",
      "metadata": {
        "colab": {
          "base_uri": "https://localhost:8080/"
        },
        "id": "RJGqCREdDA2Y",
        "outputId": "ad58189a-a467-432f-ffba-ffd4671fa0b2"
      },
      "source": [
        "!./fp2 1.1"
      ],
      "execution_count": 29,
      "outputs": [
        {
          "output_type": "stream",
          "name": "stdout",
          "text": [
            "0 / 011 1111 1111 / 0001 1001 1001 1001 1001 1001 1001 1001 1001 1001 1001 1001 1010 "
          ]
        }
      ]
    },
    {
      "cell_type": "code",
      "metadata": {
        "colab": {
          "base_uri": "https://localhost:8080/"
        },
        "id": "lCptVZh0DMPg",
        "outputId": "9a1acd4f-ea34-4886-86db-5974db62b4eb"
      },
      "source": [
        "!./fp2 2.1"
      ],
      "execution_count": 30,
      "outputs": [
        {
          "output_type": "stream",
          "name": "stdout",
          "text": [
            "0 / 100 0000 0000 / 0000 1100 1100 1100 1100 1100 1100 1100 1100 1100 1100 1100 1101 "
          ]
        }
      ]
    },
    {
      "cell_type": "code",
      "metadata": {
        "colab": {
          "base_uri": "https://localhost:8080/"
        },
        "id": "XwArt0_iDSQo",
        "outputId": "31582507-0de8-4360-cffe-209a5eb18061"
      },
      "source": [
        "!./fp2 4.1"
      ],
      "execution_count": 31,
      "outputs": [
        {
          "output_type": "stream",
          "name": "stdout",
          "text": [
            "0 / 100 0000 0001 / 0000 0110 0110 0110 0110 0110 0110 0110 0110 0110 0110 0110 0110 "
          ]
        }
      ]
    },
    {
      "cell_type": "code",
      "metadata": {
        "colab": {
          "base_uri": "https://localhost:8080/"
        },
        "id": "XFEUNLC0Db_S",
        "outputId": "3b87ec76-0497-4a8e-a1e4-0d84e6e087c0"
      },
      "source": [
        "!./fp2 8.1"
      ],
      "execution_count": 32,
      "outputs": [
        {
          "output_type": "stream",
          "name": "stdout",
          "text": [
            "0 / 100 0000 0010 / 0000 0011 0011 0011 0011 0011 0011 0011 0011 0011 0011 0011 0011 "
          ]
        }
      ]
    },
    {
      "cell_type": "code",
      "metadata": {
        "colab": {
          "base_uri": "https://localhost:8080/"
        },
        "id": "21oa6R5cGgKg",
        "outputId": "7919a582-46d4-4a31-a58a-05f35d57a9df"
      },
      "source": [
        "%%file fenv.c\n",
        "#include <stdio.h>\n",
        "#include <math.h>\n",
        "#include <fenv.h>\n",
        "\n",
        "int main(void)\n",
        "{\n",
        "    int mode = fegetround();\n",
        "\n",
        "    switch (mode) {\n",
        "    case FE_DOWNWARD:\n",
        "        puts(\"FE_DOWNWARD\");\n",
        "        break;\n",
        "    case FE_UPWARD:\n",
        "        puts(\"FE_UPWARD\");\n",
        "        break;\n",
        "    case FE_TONEAREST:\n",
        "        puts(\"FE_TONEAREST\");\n",
        "        break;\n",
        "    case FE_TOWARDZERO:\n",
        "        puts(\"FE_TOWARDZERO\");\n",
        "        break;\n",
        "    default:\n",
        "        printf(\"%d\\n\", mode);\n",
        "        break;\n",
        "    }\n",
        "\n",
        "    return 0;\n",
        "}"
      ],
      "execution_count": 39,
      "outputs": [
        {
          "output_type": "stream",
          "name": "stdout",
          "text": [
            "Overwriting fenv.c\n"
          ]
        }
      ]
    },
    {
      "cell_type": "code",
      "metadata": {
        "colab": {
          "base_uri": "https://localhost:8080/"
        },
        "id": "Bll9jPK6GmOR",
        "outputId": "80fe0edf-7a0c-4e82-f672-dfc75f795fab"
      },
      "source": [
        "!clang fenv.c -lm && ./a.out"
      ],
      "execution_count": 40,
      "outputs": [
        {
          "output_type": "stream",
          "name": "stdout",
          "text": [
            "FE_TONEAREST\n"
          ]
        }
      ]
    },
    {
      "cell_type": "code",
      "metadata": {
        "colab": {
          "base_uri": "https://localhost:8080/"
        },
        "id": "jS2cvLTSuXa2",
        "outputId": "db200919-e776-4990-d350-ce0a613cfe29"
      },
      "source": [
        "!./fp2 9007199254740990"
      ],
      "execution_count": 18,
      "outputs": [
        {
          "output_type": "stream",
          "name": "stdout",
          "text": [
            "0 / 100 0011 0011 / 1111 1111 1111 1111 1111 1111 1111 1111 1111 1111 1111 1111 1110 "
          ]
        }
      ]
    },
    {
      "cell_type": "code",
      "metadata": {
        "colab": {
          "base_uri": "https://localhost:8080/"
        },
        "id": "cpwWfN7LskiU",
        "outputId": "d8ec143b-493e-438b-9cf6-fff828696507"
      },
      "source": [
        "!./fp2 9007199254740991"
      ],
      "execution_count": 19,
      "outputs": [
        {
          "output_type": "stream",
          "name": "stdout",
          "text": [
            "0 / 100 0011 0011 / 1111 1111 1111 1111 1111 1111 1111 1111 1111 1111 1111 1111 1111 "
          ]
        }
      ]
    },
    {
      "cell_type": "code",
      "metadata": {
        "colab": {
          "base_uri": "https://localhost:8080/"
        },
        "id": "_zRtjzrguH6D",
        "outputId": "a22bbc9e-be7e-4d0b-91ee-136a5ae7c4ad"
      },
      "source": [
        "!./fp2 9007199254740992"
      ],
      "execution_count": 20,
      "outputs": [
        {
          "output_type": "stream",
          "name": "stdout",
          "text": [
            "0 / 100 0011 0100 / 0000 0000 0000 0000 0000 0000 0000 0000 0000 0000 0000 0000 0000 "
          ]
        }
      ]
    },
    {
      "cell_type": "code",
      "metadata": {
        "colab": {
          "base_uri": "https://localhost:8080/"
        },
        "id": "1RMys_SYuIZY",
        "outputId": "d8ca847c-311a-4cfa-ad82-154cd586061f"
      },
      "source": [
        "!./fp2 9007199254740993"
      ],
      "execution_count": 21,
      "outputs": [
        {
          "output_type": "stream",
          "name": "stdout",
          "text": [
            "0 / 100 0011 0100 / 0000 0000 0000 0000 0000 0000 0000 0000 0000 0000 0000 0000 0000 "
          ]
        }
      ]
    },
    {
      "cell_type": "markdown",
      "metadata": {
        "id": "DfPd-KoZxPs1"
      },
      "source": [
        "## INF"
      ]
    },
    {
      "cell_type": "code",
      "metadata": {
        "colab": {
          "base_uri": "https://localhost:8080/"
        },
        "id": "vNRkDLdyxY4_",
        "outputId": "40cd5fd9-6588-4e12-c819-ca92e93a65da"
      },
      "source": [
        "%%file fp3.c\n",
        "#include <stdio.h>\n",
        "#include <stdlib.h>\n",
        "\n",
        "int main(int c, char **v)\n",
        "{\n",
        "    unsigned char b[8];\n",
        "    double *x = (double *)b;\n",
        " \n",
        "    *x = 1.0 / 0.0;\n",
        "    printf(\"%f\\n\", *x);\n",
        "\n",
        "    for (int k = 0; k < 64; k++) {\n",
        "        unsigned char mask = 0x80 >> (k % 8);\n",
        "        printf(\"%d\", (b[8 - k / 8 - 1] & mask) != 0);\n",
        "\n",
        "        if (k % 4 == 3) printf(\" \");\n",
        "        if (k ==  0) printf(\" / \");\n",
        "        if (k == 11) printf(\"/ \");\n",
        "    }\n",
        "\n",
        "    return 0;\n",
        "}\n",
        "\n"
      ],
      "execution_count": 22,
      "outputs": [
        {
          "output_type": "stream",
          "name": "stdout",
          "text": [
            "Writing fp3.c\n"
          ]
        }
      ]
    },
    {
      "cell_type": "code",
      "metadata": {
        "colab": {
          "base_uri": "https://localhost:8080/"
        },
        "id": "ZgfDwsekxUzb",
        "outputId": "e2ae10ac-b0f9-493b-e21e-8f260193cb1a"
      },
      "source": [
        "!clang fp3.c && ./a.out"
      ],
      "execution_count": 23,
      "outputs": [
        {
          "output_type": "stream",
          "name": "stdout",
          "text": [
            "inf\n",
            "0 / 111 1111 1111 / 0000 0000 0000 0000 0000 0000 0000 0000 0000 0000 0000 0000 0000 "
          ]
        }
      ]
    },
    {
      "cell_type": "markdown",
      "metadata": {
        "id": "cU9m9QirySni"
      },
      "source": [
        "## NaN"
      ]
    },
    {
      "cell_type": "code",
      "metadata": {
        "colab": {
          "base_uri": "https://localhost:8080/"
        },
        "id": "68pnOAFkyOs4",
        "outputId": "58535309-3aa7-4948-92cd-5f3e464e108b"
      },
      "source": [
        "%%file fp4.c\n",
        "#include <stdio.h>\n",
        "#include <stdlib.h>\n",
        "\n",
        "int main(int c, char **v)\n",
        "{\n",
        "    unsigned char b[8];\n",
        "    double *x = (double *)b;\n",
        " \n",
        "    *x = 0.0 / 0.0;\n",
        "\n",
        "    printf(\"%f\\n\", *x);\n",
        "\n",
        "    for (int k = 0; k < 64; k++) {\n",
        "        unsigned char mask = 0x80 >> (k % 8);\n",
        "        printf(\"%d\", (b[8 - k / 8 - 1] & mask) != 0);\n",
        "\n",
        "        if (k % 4 == 3) printf(\" \");\n",
        "        if (k ==  0) printf(\" / \");\n",
        "        if (k == 11) printf(\"/ \");\n",
        "    }\n",
        "\n",
        "    return 0;\n",
        "}\n",
        "\n"
      ],
      "execution_count": 24,
      "outputs": [
        {
          "output_type": "stream",
          "name": "stdout",
          "text": [
            "Writing fp4.c\n"
          ]
        }
      ]
    },
    {
      "cell_type": "code",
      "metadata": {
        "colab": {
          "base_uri": "https://localhost:8080/"
        },
        "id": "jwkTuFe8yOs7",
        "outputId": "f5f858ca-76bb-43bd-e30e-ef5a21016a66"
      },
      "source": [
        "!clang fp4.c && ./a.out"
      ],
      "execution_count": 25,
      "outputs": [
        {
          "output_type": "stream",
          "name": "stdout",
          "text": [
            "nan\n",
            "0 / 111 1111 1111 / 1000 0000 0000 0000 0000 0000 0000 0000 0000 0000 0000 0000 0000 "
          ]
        }
      ]
    },
    {
      "cell_type": "markdown",
      "metadata": {
        "id": "qHTE135t0ABG"
      },
      "source": [
        "## 非正規化数"
      ]
    },
    {
      "cell_type": "code",
      "metadata": {
        "colab": {
          "base_uri": "https://localhost:8080/"
        },
        "id": "sW-fBNzpzNiF",
        "outputId": "333edde6-5ce5-41c9-d80f-2f1cd3e9b33a"
      },
      "source": [
        "%%file fp5.c\n",
        "#include <stdio.h>\n",
        "#include <stdlib.h>\n",
        "\n",
        "int main(int c, char **v)\n",
        "{\n",
        "    unsigned char b[8];\n",
        "    double *x = (double *)b;\n",
        " \n",
        "    *x = 1.0e-309;\n",
        "\n",
        "    printf(\"%.20f\\n\", *x);\n",
        "\n",
        "    for (int k = 0; k < 64; k++) {\n",
        "        unsigned char mask = 0x80 >> (k % 8);\n",
        "        printf(\"%d\", (b[8 - k / 8 - 1] & mask) != 0);\n",
        "\n",
        "        if (k % 4 == 3) printf(\" \");\n",
        "        if (k ==  0) printf(\" / \");\n",
        "        if (k == 11) printf(\"/ \");\n",
        "    }\n",
        "\n",
        "    return 0;\n",
        "}\n",
        "\n"
      ],
      "execution_count": 26,
      "outputs": [
        {
          "output_type": "stream",
          "name": "stdout",
          "text": [
            "Writing fp5.c\n"
          ]
        }
      ]
    },
    {
      "cell_type": "code",
      "metadata": {
        "colab": {
          "base_uri": "https://localhost:8080/"
        },
        "id": "_hB5QxMUzNiF",
        "outputId": "6a675645-b5a0-44c0-f060-3c03ac120151"
      },
      "source": [
        "!clang fp5.c && ./a.out"
      ],
      "execution_count": 27,
      "outputs": [
        {
          "output_type": "stream",
          "name": "stdout",
          "text": [
            "0.00000000000000000000\n",
            "0 / 000 0000 0000 / 0000 1011 1000 0001 0101 0111 0010 0110 1000 1111 1101 1010 1111 "
          ]
        }
      ]
    }
  ]
}