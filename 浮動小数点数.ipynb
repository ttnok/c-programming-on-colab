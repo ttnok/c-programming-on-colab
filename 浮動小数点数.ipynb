{
  "nbformat": 4,
  "nbformat_minor": 0,
  "metadata": {
    "colab": {
      "name": "浮動小数点数.ipynb",
      "provenance": [],
      "collapsed_sections": [],
      "authorship_tag": "ABX9TyOR5jlpUOzYz8LfqUkgTgin",
      "include_colab_link": true
    },
    "kernelspec": {
      "name": "python3",
      "display_name": "Python 3"
    },
    "language_info": {
      "name": "python"
    }
  },
  "cells": [
    {
      "cell_type": "markdown",
      "metadata": {
        "id": "view-in-github",
        "colab_type": "text"
      },
      "source": [
        "<a href=\"https://colab.research.google.com/github/ttnok/c-programming-on-colab/blob/main/%E6%B5%AE%E5%8B%95%E5%B0%8F%E6%95%B0%E7%82%B9%E6%95%B0.ipynb\" target=\"_parent\"><img src=\"https://colab.research.google.com/assets/colab-badge.svg\" alt=\"Open In Colab\"/></a>"
      ]
    },
    {
      "cell_type": "markdown",
      "metadata": {
        "id": "pty5-prBriVl"
      },
      "source": [
        "# IEEE754 binary64 ビット列観察"
      ]
    },
    {
      "cell_type": "markdown",
      "metadata": {
        "id": "gW2pt2CcrwKK"
      },
      "source": [
        "## 16 進表示"
      ]
    },
    {
      "cell_type": "code",
      "metadata": {
        "colab": {
          "base_uri": "https://localhost:8080/"
        },
        "id": "fD0kAoj0BzeO",
        "outputId": "09500223-dfe1-4c45-ce09-f7c9e6734c75"
      },
      "source": [
        "%%file fp.c\n",
        "#include <stdio.h>\n",
        "\n",
        "int main(void)\n",
        "{\n",
        "    unsigned char b[8];\n",
        "    double *x = (double *)b;\n",
        " \n",
        "    printf(\"? \");\n",
        "    scanf(\"%lf\", x);\n",
        " \n",
        "    printf(\"b = %p\\n\", (void *)b);\n",
        "    printf(\"x = %p\\n\", (void *)x);\n",
        "    printf(\"*x = %f\\n\", *x);\n",
        "\n",
        "    printf(\"%02x %02x %02x %02x %02x %02x %02x %02x\\n\",\n",
        "           b[7], b[6], b[5], b[4], b[3], b[2], b[1], b[0]);\n",
        "\n",
        "    return 0;\n",
        "}\n",
        "\n"
      ],
      "execution_count": 117,
      "outputs": [
        {
          "output_type": "stream",
          "name": "stdout",
          "text": [
            "Overwriting fp.c\n"
          ]
        }
      ]
    },
    {
      "cell_type": "code",
      "metadata": {
        "id": "9gnxZOLpCyQp"
      },
      "source": [
        "!clang fp.c -o fp"
      ],
      "execution_count": 120,
      "outputs": []
    },
    {
      "cell_type": "code",
      "metadata": {
        "colab": {
          "base_uri": "https://localhost:8080/"
        },
        "id": "Pq_Ldgi3C0g_",
        "outputId": "d95e0f7e-9e5c-4c94-f482-02d5fe4df572"
      },
      "source": [
        "!./fp"
      ],
      "execution_count": 111,
      "outputs": [
        {
          "output_type": "stream",
          "name": "stdout",
          "text": [
            "? 1\n",
            "b = 0x7ffc0b77c59c\n",
            "x = 0x7ffc0b77c59c\n",
            "*x = 1.000000\n",
            "3f f0 00 00 00 00 00 00\n"
          ]
        }
      ]
    },
    {
      "cell_type": "markdown",
      "metadata": {
        "id": "9_kPIjM5r0fR"
      },
      "source": [
        "## 2 進表示"
      ]
    },
    {
      "cell_type": "code",
      "metadata": {
        "colab": {
          "base_uri": "https://localhost:8080/"
        },
        "id": "doIrvuJLLst2",
        "outputId": "f082815f-7847-4ac8-b39c-6de98aecc2d3"
      },
      "source": [
        "%%file fp2.c\n",
        "#include <stdio.h>\n",
        "#include <stdlib.h>\n",
        "\n",
        "int main(int c, char **v)\n",
        "{\n",
        "    unsigned char b[8];\n",
        "    double *x = (double *)b;\n",
        " \n",
        "    *x = strtod(v[1], NULL);\n",
        "\n",
        "    for (int k = 0; k < 64; k++) {\n",
        "        unsigned char mask = 0x80 >> (k % 8);\n",
        "        printf(\"%d\", (b[8 - k / 8 - 1] & mask) != 0);\n",
        "\n",
        "        if (k % 4 == 3) printf(\" \");\n",
        "        if (k ==  0) printf(\" / \");\n",
        "        if (k == 11) printf(\"/ \");\n",
        "    }\n",
        "\n",
        "    return 0;\n",
        "}\n",
        "\n"
      ],
      "execution_count": 131,
      "outputs": [
        {
          "output_type": "stream",
          "name": "stdout",
          "text": [
            "Overwriting fp2.c\n"
          ]
        }
      ]
    },
    {
      "cell_type": "code",
      "metadata": {
        "id": "htQOe6mwILVq"
      },
      "source": [
        "!clang fp2.c -o fp2"
      ],
      "execution_count": 132,
      "outputs": []
    },
    {
      "cell_type": "code",
      "metadata": {
        "colab": {
          "base_uri": "https://localhost:8080/"
        },
        "id": "yRIpiHkkMQQ3",
        "outputId": "9ce57566-5473-4efa-f034-aba19d5536dc"
      },
      "source": [
        "!./fp2 1"
      ],
      "execution_count": 133,
      "outputs": [
        {
          "output_type": "stream",
          "name": "stdout",
          "text": [
            "0 / 011 1111 1111 / 0000 0000 0000 0000 0000 0000 0000 0000 0000 0000 0000 0000 0000 "
          ]
        }
      ]
    },
    {
      "cell_type": "code",
      "metadata": {
        "colab": {
          "base_uri": "https://localhost:8080/"
        },
        "id": "fU1WObLvpElo",
        "outputId": "4acffb7b-4078-4229-9c08-d6a38caa0a6e"
      },
      "source": [
        "!./fp2 -1"
      ],
      "execution_count": 134,
      "outputs": [
        {
          "output_type": "stream",
          "name": "stdout",
          "text": [
            "1 / 011 1111 1111 / 0000 0000 0000 0000 0000 0000 0000 0000 0000 0000 0000 0000 0000 "
          ]
        }
      ]
    },
    {
      "cell_type": "code",
      "metadata": {
        "colab": {
          "base_uri": "https://localhost:8080/"
        },
        "id": "d3lg1Wnqu5Uw",
        "outputId": "9ac5069d-4c5a-4968-ed5e-4603cf6bcc61"
      },
      "source": [
        "!./fp2 1.5"
      ],
      "execution_count": 149,
      "outputs": [
        {
          "output_type": "stream",
          "name": "stdout",
          "text": [
            "0 / 011 1111 1111 / 1000 0000 0000 0000 0000 0000 0000 0000 0000 0000 0000 0000 0000 "
          ]
        }
      ]
    },
    {
      "cell_type": "code",
      "metadata": {
        "colab": {
          "base_uri": "https://localhost:8080/"
        },
        "id": "U5XC5y8mvFfB",
        "outputId": "d37625fb-7414-427e-9ab2-dd53f7dfd155"
      },
      "source": [
        "!./fp2 1.75"
      ],
      "execution_count": 150,
      "outputs": [
        {
          "output_type": "stream",
          "name": "stdout",
          "text": [
            "0 / 011 1111 1111 / 1100 0000 0000 0000 0000 0000 0000 0000 0000 0000 0000 0000 0000 "
          ]
        }
      ]
    },
    {
      "cell_type": "code",
      "metadata": {
        "colab": {
          "base_uri": "https://localhost:8080/"
        },
        "id": "TYTsZmXXpEvf",
        "outputId": "498d648d-6b68-40d2-fcbb-a9fcd1da1a1d"
      },
      "source": [
        "!./fp2 0"
      ],
      "execution_count": 135,
      "outputs": [
        {
          "output_type": "stream",
          "name": "stdout",
          "text": [
            "0 / 000 0000 0000 / 0000 0000 0000 0000 0000 0000 0000 0000 0000 0000 0000 0000 0000 "
          ]
        }
      ]
    },
    {
      "cell_type": "code",
      "metadata": {
        "colab": {
          "base_uri": "https://localhost:8080/"
        },
        "id": "VKYwJ3OipEzD",
        "outputId": "3f7fb231-3859-47b4-c1f7-91e3f148a916"
      },
      "source": [
        "!./fp2 -0"
      ],
      "execution_count": 136,
      "outputs": [
        {
          "output_type": "stream",
          "name": "stdout",
          "text": [
            "1 / 000 0000 0000 / 0000 0000 0000 0000 0000 0000 0000 0000 0000 0000 0000 0000 0000 "
          ]
        }
      ]
    },
    {
      "cell_type": "code",
      "metadata": {
        "colab": {
          "base_uri": "https://localhost:8080/"
        },
        "id": "rBsUQIDnpE2p",
        "outputId": "e4ab089e-1ff3-49a3-e9da-38a21fdfd0b4"
      },
      "source": [
        "!./fp2 2"
      ],
      "execution_count": 137,
      "outputs": [
        {
          "output_type": "stream",
          "name": "stdout",
          "text": [
            "0 / 100 0000 0000 / 0000 0000 0000 0000 0000 0000 0000 0000 0000 0000 0000 0000 0000 "
          ]
        }
      ]
    },
    {
      "cell_type": "code",
      "metadata": {
        "colab": {
          "base_uri": "https://localhost:8080/"
        },
        "id": "8xXgRsjypE6d",
        "outputId": "d2f03e45-3e2e-4f61-ba5f-def9726e5ca0"
      },
      "source": [
        "!./fp2 3"
      ],
      "execution_count": 138,
      "outputs": [
        {
          "output_type": "stream",
          "name": "stdout",
          "text": [
            "0 / 100 0000 0000 / 1000 0000 0000 0000 0000 0000 0000 0000 0000 0000 0000 0000 0000 "
          ]
        }
      ]
    },
    {
      "cell_type": "code",
      "metadata": {
        "colab": {
          "base_uri": "https://localhost:8080/"
        },
        "id": "qe59nGTZpE93",
        "outputId": "e0745be5-1b69-47c3-83f7-b69d5e9908cb"
      },
      "source": [
        "!./fp2 7"
      ],
      "execution_count": 139,
      "outputs": [
        {
          "output_type": "stream",
          "name": "stdout",
          "text": [
            "0 / 100 0000 0001 / 1100 0000 0000 0000 0000 0000 0000 0000 0000 0000 0000 0000 0000 "
          ]
        }
      ]
    },
    {
      "cell_type": "code",
      "metadata": {
        "colab": {
          "base_uri": "https://localhost:8080/"
        },
        "id": "EgR81XxVpFEd",
        "outputId": "4549a112-d012-4bff-934b-09c94bb61238"
      },
      "source": [
        "!./fp2 0.1"
      ],
      "execution_count": 140,
      "outputs": [
        {
          "output_type": "stream",
          "name": "stdout",
          "text": [
            "0 / 011 1111 1011 / 1001 1001 1001 1001 1001 1001 1001 1001 1001 1001 1001 1001 1010 "
          ]
        }
      ]
    },
    {
      "cell_type": "code",
      "metadata": {
        "colab": {
          "base_uri": "https://localhost:8080/"
        },
        "id": "YGJ2iy59rTug",
        "outputId": "460f3df6-c226-4d3c-84c4-5ec60b5bd657"
      },
      "source": [
        "!./fp2 0.2"
      ],
      "execution_count": 141,
      "outputs": [
        {
          "output_type": "stream",
          "name": "stdout",
          "text": [
            "0 / 011 1111 1100 / 1001 1001 1001 1001 1001 1001 1001 1001 1001 1001 1001 1001 1010 "
          ]
        }
      ]
    },
    {
      "cell_type": "code",
      "metadata": {
        "colab": {
          "base_uri": "https://localhost:8080/"
        },
        "id": "Ofrs_eKTrVy0",
        "outputId": "ac532ba8-36be-45b4-9775-d9fb81369c38"
      },
      "source": [
        "!./fp2 0.3"
      ],
      "execution_count": 142,
      "outputs": [
        {
          "output_type": "stream",
          "name": "stdout",
          "text": [
            "0 / 011 1111 1101 / 0011 0011 0011 0011 0011 0011 0011 0011 0011 0011 0011 0011 0011 "
          ]
        }
      ]
    },
    {
      "cell_type": "code",
      "metadata": {
        "colab": {
          "base_uri": "https://localhost:8080/"
        },
        "id": "jS2cvLTSuXa2",
        "outputId": "b95995cc-1cd5-4e78-e1f0-e294db0b5684"
      },
      "source": [
        "!./fp2 9007199254740990"
      ],
      "execution_count": 147,
      "outputs": [
        {
          "output_type": "stream",
          "name": "stdout",
          "text": [
            "0 / 100 0011 0011 / 1111 1111 1111 1111 1111 1111 1111 1111 1111 1111 1111 1111 1110 "
          ]
        }
      ]
    },
    {
      "cell_type": "code",
      "metadata": {
        "colab": {
          "base_uri": "https://localhost:8080/"
        },
        "id": "cpwWfN7LskiU",
        "outputId": "510a0568-79c8-40ce-ad64-d6da95335558"
      },
      "source": [
        "!./fp2 9007199254740991"
      ],
      "execution_count": 144,
      "outputs": [
        {
          "output_type": "stream",
          "name": "stdout",
          "text": [
            "0 / 100 0011 0011 / 1111 1111 1111 1111 1111 1111 1111 1111 1111 1111 1111 1111 1111 "
          ]
        }
      ]
    },
    {
      "cell_type": "code",
      "metadata": {
        "colab": {
          "base_uri": "https://localhost:8080/"
        },
        "id": "_zRtjzrguH6D",
        "outputId": "c78beadf-5523-426d-f4c6-809b3163f288"
      },
      "source": [
        "!./fp2 9007199254740992"
      ],
      "execution_count": 145,
      "outputs": [
        {
          "output_type": "stream",
          "name": "stdout",
          "text": [
            "0 / 100 0011 0100 / 0000 0000 0000 0000 0000 0000 0000 0000 0000 0000 0000 0000 0000 "
          ]
        }
      ]
    },
    {
      "cell_type": "code",
      "metadata": {
        "colab": {
          "base_uri": "https://localhost:8080/"
        },
        "id": "1RMys_SYuIZY",
        "outputId": "4113cad8-7fd9-4c64-c987-4a07aad1eb78"
      },
      "source": [
        "!./fp2 9007199254740993"
      ],
      "execution_count": 146,
      "outputs": [
        {
          "output_type": "stream",
          "name": "stdout",
          "text": [
            "0 / 100 0011 0100 / 0000 0000 0000 0000 0000 0000 0000 0000 0000 0000 0000 0000 0000 "
          ]
        }
      ]
    },
    {
      "cell_type": "markdown",
      "metadata": {
        "id": "DfPd-KoZxPs1"
      },
      "source": [
        "## INF"
      ]
    },
    {
      "cell_type": "code",
      "metadata": {
        "colab": {
          "base_uri": "https://localhost:8080/"
        },
        "id": "vNRkDLdyxY4_",
        "outputId": "fcfb202c-dd4b-49c8-af1b-0ba846560931"
      },
      "source": [
        "%%file fp3.c\n",
        "#include <stdio.h>\n",
        "#include <stdlib.h>\n",
        "\n",
        "int main(int c, char **v)\n",
        "{\n",
        "    unsigned char b[8];\n",
        "    double *x = (double *)b;\n",
        " \n",
        "    *x = 1.0 / 0.0;\n",
        "    printf(\"%f\\n\", *x);\n",
        "\n",
        "    for (int k = 0; k < 64; k++) {\n",
        "        unsigned char mask = 0x80 >> (k % 8);\n",
        "        printf(\"%d\", (b[8 - k / 8 - 1] & mask) != 0);\n",
        "\n",
        "        if (k % 4 == 3) printf(\" \");\n",
        "        if (k ==  0) printf(\" / \");\n",
        "        if (k == 11) printf(\"/ \");\n",
        "    }\n",
        "\n",
        "    return 0;\n",
        "}\n",
        "\n"
      ],
      "execution_count": 159,
      "outputs": [
        {
          "output_type": "stream",
          "name": "stdout",
          "text": [
            "Overwriting fp3.c\n"
          ]
        }
      ]
    },
    {
      "cell_type": "code",
      "metadata": {
        "colab": {
          "base_uri": "https://localhost:8080/"
        },
        "id": "ZgfDwsekxUzb",
        "outputId": "893543fd-682c-4503-96b7-3e20c66f4de0"
      },
      "source": [
        "!clang fp3.c && ./a.out"
      ],
      "execution_count": 160,
      "outputs": [
        {
          "output_type": "stream",
          "name": "stdout",
          "text": [
            "inf\n",
            "0 / 111 1111 1111 / 0000 0000 0000 0000 0000 0000 0000 0000 0000 0000 0000 0000 0000 "
          ]
        }
      ]
    },
    {
      "cell_type": "markdown",
      "metadata": {
        "id": "cU9m9QirySni"
      },
      "source": [
        "## NaN"
      ]
    },
    {
      "cell_type": "code",
      "metadata": {
        "colab": {
          "base_uri": "https://localhost:8080/"
        },
        "id": "68pnOAFkyOs4",
        "outputId": "a66e07e1-24a1-44b2-b290-5f022bed76a1"
      },
      "source": [
        "%%file fp4.c\n",
        "#include <stdio.h>\n",
        "#include <stdlib.h>\n",
        "\n",
        "int main(int c, char **v)\n",
        "{\n",
        "    unsigned char b[8];\n",
        "    double *x = (double *)b;\n",
        " \n",
        "    *x = 0.0 / 0.0;\n",
        "\n",
        "    printf(\"%f\\n\", *x);\n",
        "\n",
        "    for (int k = 0; k < 64; k++) {\n",
        "        unsigned char mask = 0x80 >> (k % 8);\n",
        "        printf(\"%d\", (b[8 - k / 8 - 1] & mask) != 0);\n",
        "\n",
        "        if (k % 4 == 3) printf(\" \");\n",
        "        if (k ==  0) printf(\" / \");\n",
        "        if (k == 11) printf(\"/ \");\n",
        "    }\n",
        "\n",
        "    return 0;\n",
        "}\n",
        "\n"
      ],
      "execution_count": 157,
      "outputs": [
        {
          "output_type": "stream",
          "name": "stdout",
          "text": [
            "Overwriting fp4.c\n"
          ]
        }
      ]
    },
    {
      "cell_type": "code",
      "metadata": {
        "colab": {
          "base_uri": "https://localhost:8080/"
        },
        "id": "jwkTuFe8yOs7",
        "outputId": "7e5a7029-c45e-4914-d645-63d05c686e43"
      },
      "source": [
        "!clang fp4.c && ./a.out"
      ],
      "execution_count": 158,
      "outputs": [
        {
          "output_type": "stream",
          "name": "stdout",
          "text": [
            "nan\n",
            "0 / 111 1111 1111 / 1000 0000 0000 0000 0000 0000 0000 0000 0000 0000 0000 0000 0000 "
          ]
        }
      ]
    },
    {
      "cell_type": "code",
      "metadata": {
        "id": "M-N9c-KYzM7P"
      },
      "source": [
        ""
      ],
      "execution_count": null,
      "outputs": []
    },
    {
      "cell_type": "markdown",
      "metadata": {
        "id": "qHTE135t0ABG"
      },
      "source": [
        "## 非正規化数"
      ]
    },
    {
      "cell_type": "code",
      "metadata": {
        "colab": {
          "base_uri": "https://localhost:8080/"
        },
        "id": "sW-fBNzpzNiF",
        "outputId": "7fd0d246-77c0-4113-8f9e-b3c15b491e21"
      },
      "source": [
        "%%file fp5.c\n",
        "#include <stdio.h>\n",
        "#include <stdlib.h>\n",
        "\n",
        "int main(int c, char **v)\n",
        "{\n",
        "    unsigned char b[8];\n",
        "    double *x = (double *)b;\n",
        " \n",
        "    *x = 1.0e-309;\n",
        "\n",
        "    printf(\"%.20f\\n\", *x);\n",
        "\n",
        "    for (int k = 0; k < 64; k++) {\n",
        "        unsigned char mask = 0x80 >> (k % 8);\n",
        "        printf(\"%d\", (b[8 - k / 8 - 1] & mask) != 0);\n",
        "\n",
        "        if (k % 4 == 3) printf(\" \");\n",
        "        if (k ==  0) printf(\" / \");\n",
        "        if (k == 11) printf(\"/ \");\n",
        "    }\n",
        "\n",
        "    return 0;\n",
        "}\n",
        "\n"
      ],
      "execution_count": 168,
      "outputs": [
        {
          "output_type": "stream",
          "name": "stdout",
          "text": [
            "Overwriting fp5.c\n"
          ]
        }
      ]
    },
    {
      "cell_type": "code",
      "metadata": {
        "colab": {
          "base_uri": "https://localhost:8080/"
        },
        "id": "_hB5QxMUzNiF",
        "outputId": "d1fa96a0-07cf-45b8-b800-13ceb690f2a4"
      },
      "source": [
        "!clang fp5.c && ./a.out"
      ],
      "execution_count": 169,
      "outputs": [
        {
          "output_type": "stream",
          "name": "stdout",
          "text": [
            "0.00000000000000000000\n",
            "0 / 000 0000 0000 / 0000 1011 1000 0001 0101 0111 0010 0110 1000 1111 1101 1010 1111 "
          ]
        }
      ]
    }
  ]
}