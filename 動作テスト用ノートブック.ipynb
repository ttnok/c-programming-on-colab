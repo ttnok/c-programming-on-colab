{
  "nbformat": 4,
  "nbformat_minor": 0,
  "metadata": {
    "colab": {
      "name": "動作テスト用ノートブック.ipynb",
      "provenance": [],
      "collapsed_sections": [],
      "authorship_tag": "ABX9TyP6jrDZqi40DlVJxQxj1jfi",
      "include_colab_link": true
    },
    "kernelspec": {
      "name": "python3",
      "display_name": "Python 3"
    },
    "language_info": {
      "name": "python"
    }
  },
  "cells": [
    {
      "cell_type": "markdown",
      "metadata": {
        "id": "view-in-github",
        "colab_type": "text"
      },
      "source": [
        "<a href=\"https://colab.research.google.com/github/ttnok/c-programming-on-colab/blob/main/%E5%8B%95%E4%BD%9C%E3%83%86%E3%82%B9%E3%83%88%E7%94%A8%E3%83%8E%E3%83%BC%E3%83%88%E3%83%96%E3%83%83%E3%82%AF.ipynb\" target=\"_parent\"><img src=\"https://colab.research.google.com/assets/colab-badge.svg\" alt=\"Open In Colab\"/></a>"
      ]
    },
    {
      "cell_type": "markdown",
      "metadata": {
        "id": "gE5d1JY1d9Om"
      },
      "source": [
        "# 動作テスト用ノートブック\n",
        "\n",
        "授業で登場するコードがトラブルなく実行できることを確認するためのノートブック"
      ]
    },
    {
      "cell_type": "markdown",
      "metadata": {
        "id": "vQ6KNm_pgVK9"
      },
      "source": [
        "## コンパイラその他の確認"
      ]
    },
    {
      "cell_type": "code",
      "metadata": {
        "colab": {
          "base_uri": "https://localhost:8080/"
        },
        "id": "MmzdJyFRgYwd",
        "outputId": "c04a211c-e52e-4c97-813b-61d5fe21d8fd"
      },
      "source": [
        "!clang --version"
      ],
      "execution_count": 1,
      "outputs": [
        {
          "output_type": "stream",
          "name": "stdout",
          "text": [
            "clang version 6.0.0-1ubuntu2 (tags/RELEASE_600/final)\n",
            "Target: x86_64-pc-linux-gnu\n",
            "Thread model: posix\n",
            "InstalledDir: /usr/bin\n"
          ]
        }
      ]
    },
    {
      "cell_type": "code",
      "metadata": {
        "colab": {
          "base_uri": "https://localhost:8080/"
        },
        "id": "AbgzC9LVgbW6",
        "outputId": "87d6d40a-acef-429d-d9ce-99123441546c"
      },
      "source": [
        "!gcc --version"
      ],
      "execution_count": 2,
      "outputs": [
        {
          "output_type": "stream",
          "name": "stdout",
          "text": [
            "gcc (Ubuntu 7.5.0-3ubuntu1~18.04) 7.5.0\n",
            "Copyright (C) 2017 Free Software Foundation, Inc.\n",
            "This is free software; see the source for copying conditions.  There is NO\n",
            "warranty; not even for MERCHANTABILITY or FITNESS FOR A PARTICULAR PURPOSE.\n",
            "\n"
          ]
        }
      ]
    },
    {
      "cell_type": "code",
      "metadata": {
        "colab": {
          "base_uri": "https://localhost:8080/"
        },
        "id": "v5LLNdUMg2TS",
        "outputId": "e9f7dd2d-8fb6-4075-ec11-ce6e9790d41b"
      },
      "source": [
        "!cat /proc/cpuinfo"
      ],
      "execution_count": 3,
      "outputs": [
        {
          "output_type": "stream",
          "name": "stdout",
          "text": [
            "processor\t: 0\n",
            "vendor_id\t: AuthenticAMD\n",
            "cpu family\t: 23\n",
            "model\t\t: 49\n",
            "model name\t: AMD EPYC 7B12\n",
            "stepping\t: 0\n",
            "microcode\t: 0x1000065\n",
            "cpu MHz\t\t: 2249.998\n",
            "cache size\t: 512 KB\n",
            "physical id\t: 0\n",
            "siblings\t: 2\n",
            "core id\t\t: 0\n",
            "cpu cores\t: 1\n",
            "apicid\t\t: 0\n",
            "initial apicid\t: 0\n",
            "fpu\t\t: yes\n",
            "fpu_exception\t: yes\n",
            "cpuid level\t: 13\n",
            "wp\t\t: yes\n",
            "flags\t\t: fpu vme de pse tsc msr pae mce cx8 apic sep mtrr pge mca cmov pat pse36 clflush mmx fxsr sse sse2 ht syscall nx mmxext fxsr_opt pdpe1gb rdtscp lm constant_tsc rep_good nopl nonstop_tsc cpuid extd_apicid tsc_known_freq pni pclmulqdq ssse3 fma cx16 sse4_1 sse4_2 movbe popcnt aes xsave avx f16c rdrand hypervisor lahf_lm cmp_legacy cr8_legacy abm sse4a misalignsse 3dnowprefetch osvw topoext ssbd ibrs ibpb stibp vmmcall fsgsbase tsc_adjust bmi1 avx2 smep bmi2 rdseed adx smap clflushopt clwb sha_ni xsaveopt xsavec xgetbv1 clzero xsaveerptr arat npt nrip_save umip rdpid\n",
            "bugs\t\t: sysret_ss_attrs spectre_v1 spectre_v2 spec_store_bypass\n",
            "bogomips\t: 4499.99\n",
            "TLB size\t: 3072 4K pages\n",
            "clflush size\t: 64\n",
            "cache_alignment\t: 64\n",
            "address sizes\t: 48 bits physical, 48 bits virtual\n",
            "power management:\n",
            "\n",
            "processor\t: 1\n",
            "vendor_id\t: AuthenticAMD\n",
            "cpu family\t: 23\n",
            "model\t\t: 49\n",
            "model name\t: AMD EPYC 7B12\n",
            "stepping\t: 0\n",
            "microcode\t: 0x1000065\n",
            "cpu MHz\t\t: 2249.998\n",
            "cache size\t: 512 KB\n",
            "physical id\t: 0\n",
            "siblings\t: 2\n",
            "core id\t\t: 0\n",
            "cpu cores\t: 1\n",
            "apicid\t\t: 1\n",
            "initial apicid\t: 1\n",
            "fpu\t\t: yes\n",
            "fpu_exception\t: yes\n",
            "cpuid level\t: 13\n",
            "wp\t\t: yes\n",
            "flags\t\t: fpu vme de pse tsc msr pae mce cx8 apic sep mtrr pge mca cmov pat pse36 clflush mmx fxsr sse sse2 ht syscall nx mmxext fxsr_opt pdpe1gb rdtscp lm constant_tsc rep_good nopl nonstop_tsc cpuid extd_apicid tsc_known_freq pni pclmulqdq ssse3 fma cx16 sse4_1 sse4_2 movbe popcnt aes xsave avx f16c rdrand hypervisor lahf_lm cmp_legacy cr8_legacy abm sse4a misalignsse 3dnowprefetch osvw topoext ssbd ibrs ibpb stibp vmmcall fsgsbase tsc_adjust bmi1 avx2 smep bmi2 rdseed adx smap clflushopt clwb sha_ni xsaveopt xsavec xgetbv1 clzero xsaveerptr arat npt nrip_save umip rdpid\n",
            "bugs\t\t: sysret_ss_attrs spectre_v1 spectre_v2 spec_store_bypass\n",
            "bogomips\t: 4499.99\n",
            "TLB size\t: 3072 4K pages\n",
            "clflush size\t: 64\n",
            "cache_alignment\t: 64\n",
            "address sizes\t: 48 bits physical, 48 bits virtual\n",
            "power management:\n",
            "\n"
          ]
        }
      ]
    },
    {
      "cell_type": "code",
      "metadata": {
        "colab": {
          "base_uri": "https://localhost:8080/"
        },
        "id": "7iIVcV7kgzEG",
        "outputId": "cc893e1f-bde9-454a-b1ad-e69c9f2c7ec1"
      },
      "source": [
        "!uname -a"
      ],
      "execution_count": 4,
      "outputs": [
        {
          "output_type": "stream",
          "name": "stdout",
          "text": [
            "Linux 64d03ed7d81e 5.4.104+ #1 SMP Sat Jun 5 09:50:34 PDT 2021 x86_64 x86_64 x86_64 GNU/Linux\n"
          ]
        }
      ]
    },
    {
      "cell_type": "code",
      "metadata": {
        "colab": {
          "base_uri": "https://localhost:8080/"
        },
        "id": "NC2bu-HJO9y3",
        "outputId": "8b40292b-375b-4be7-bd9c-dbf6ebb142f4"
      },
      "source": [
        "!cat /proc/version\n",
        "!cat /etc/issue"
      ],
      "execution_count": 5,
      "outputs": [
        {
          "output_type": "stream",
          "name": "stdout",
          "text": [
            "Linux version 5.4.104+ (builder@81cc40d87d7b) (Chromium OS 12.0_pre408248_p20201125-r7 clang version 12.0.0 (/var/tmp/portage/sys-devel/llvm-12.0_pre408248_p20201125-r7/work/llvm-12.0_pre408248_p20201125/clang f402e682d0ef5598eeffc9a21a691b03e602ff58)) #1 SMP Sat Jun 5 09:50:34 PDT 2021\n",
            "Ubuntu 18.04.5 LTS \\n \\l\n",
            "\n"
          ]
        }
      ]
    },
    {
      "cell_type": "markdown",
      "metadata": {
        "id": "wedsPLsveM3g"
      },
      "source": [
        "## 標準出力の確認"
      ]
    },
    {
      "cell_type": "code",
      "metadata": {
        "colab": {
          "base_uri": "https://localhost:8080/"
        },
        "id": "fKOeJGFTd19y",
        "outputId": "8bd6e0e9-24a5-41ad-952f-18f8b76cd640"
      },
      "source": [
        "%%file hello.c\n",
        "#include <stdio.h>\n",
        "\n",
        "int main(void)\n",
        "{\n",
        "    printf(\"Hello!\\n\");\n",
        "    printf(\"こんにちは\\n\");\n",
        "    printf(\"おめでとう🎉🎉🎉\\n\");\n",
        "    printf(\"01234567890123456789\\n\");\n",
        "    printf(\"| a\\t| b\\t|\\n\");\n",
        "\n",
        "    return 0;\n",
        "}\n"
      ],
      "execution_count": 6,
      "outputs": [
        {
          "output_type": "stream",
          "name": "stdout",
          "text": [
            "Overwriting hello.c\n"
          ]
        }
      ]
    },
    {
      "cell_type": "code",
      "metadata": {
        "colab": {
          "base_uri": "https://localhost:8080/"
        },
        "id": "8IHL4HO1fS0h",
        "outputId": "c0caa937-888f-4853-ca6b-11f7158221ec"
      },
      "source": [
        "!clang hello.c && ./a.out"
      ],
      "execution_count": 7,
      "outputs": [
        {
          "output_type": "stream",
          "name": "stdout",
          "text": [
            "Hello!\n",
            "こんにちは\n",
            "おめでとう🎉🎉🎉\n",
            "01234567890123456789\n",
            "| a\t| b\t|\n"
          ]
        }
      ]
    },
    {
      "cell_type": "markdown",
      "metadata": {
        "id": "GXixxiIiiAug"
      },
      "source": [
        "## 標準入力の確認"
      ]
    },
    {
      "cell_type": "code",
      "metadata": {
        "colab": {
          "base_uri": "https://localhost:8080/"
        },
        "id": "JF3wVjGKfXXX",
        "outputId": "ae69cfef-4fe1-4c2d-880d-a930299946da"
      },
      "source": [
        "%%file sum.c\n",
        "#include <stdio.h>\n",
        "\n",
        "int main(void)\n",
        "{\n",
        "    int a, b;\n",
        "    \n",
        "    printf(\"整数 a = \"); scanf(\"%d\", &a);\n",
        "    printf(\"整数 b = \"); scanf(\"%d\", &b);\n",
        " \n",
        "    printf(\"%d + %d = %d\\n\", a, b, a + b);\n",
        "\n",
        "    return 0;\n",
        "}"
      ],
      "execution_count": 8,
      "outputs": [
        {
          "output_type": "stream",
          "name": "stdout",
          "text": [
            "Overwriting sum.c\n"
          ]
        }
      ]
    },
    {
      "cell_type": "code",
      "metadata": {
        "colab": {
          "base_uri": "https://localhost:8080/"
        },
        "id": "0zSJ33yWiiLJ",
        "outputId": "53910a94-709d-43b3-e515-ef5c7aef72a1"
      },
      "source": [
        "!clang sum.c && ./a.out"
      ],
      "execution_count": 9,
      "outputs": [
        {
          "output_type": "stream",
          "name": "stdout",
          "text": [
            "整数 a = 2\n",
            "整数 b = 3\n",
            "2 + 3 = 5\n"
          ]
        }
      ]
    },
    {
      "cell_type": "markdown",
      "metadata": {
        "id": "71gB0YPCMcML"
      },
      "source": [
        "## 等幅表示の確認\n",
        "\n",
        "ブラウザのフォント設定が必要な場合あり"
      ]
    },
    {
      "cell_type": "code",
      "metadata": {
        "colab": {
          "base_uri": "https://localhost:8080/"
        },
        "id": "EOg0niUQMl2f",
        "outputId": "416027ae-58f2-4e2e-c234-2ea9be86dd6f"
      },
      "source": [
        "%%file kuku.c\n",
        "#include <stdio.h>\n",
        "\n",
        "int main(void)\n",
        "{\n",
        "    for (int i = 1; i <= 19; i++) {\n",
        "        for (int j = 1; j <= 19; j++) {\n",
        "            printf(\"%4d\", i * j);\n",
        "        }\n",
        "        puts(\"\");\n",
        "    }\n",
        "\n",
        "    return 0;\n",
        "}\n"
      ],
      "execution_count": 10,
      "outputs": [
        {
          "output_type": "stream",
          "name": "stdout",
          "text": [
            "Overwriting kuku.c\n"
          ]
        }
      ]
    },
    {
      "cell_type": "code",
      "metadata": {
        "colab": {
          "base_uri": "https://localhost:8080/"
        },
        "id": "3LVxkDusNN_V",
        "outputId": "88013a1a-880e-45b1-cc77-e342eed1dd09"
      },
      "source": [
        "!clang kuku.c && ./a.out"
      ],
      "execution_count": 11,
      "outputs": [
        {
          "output_type": "stream",
          "name": "stdout",
          "text": [
            "   1   2   3   4   5   6   7   8   9  10  11  12  13  14  15  16  17  18  19\n",
            "   2   4   6   8  10  12  14  16  18  20  22  24  26  28  30  32  34  36  38\n",
            "   3   6   9  12  15  18  21  24  27  30  33  36  39  42  45  48  51  54  57\n",
            "   4   8  12  16  20  24  28  32  36  40  44  48  52  56  60  64  68  72  76\n",
            "   5  10  15  20  25  30  35  40  45  50  55  60  65  70  75  80  85  90  95\n",
            "   6  12  18  24  30  36  42  48  54  60  66  72  78  84  90  96 102 108 114\n",
            "   7  14  21  28  35  42  49  56  63  70  77  84  91  98 105 112 119 126 133\n",
            "   8  16  24  32  40  48  56  64  72  80  88  96 104 112 120 128 136 144 152\n",
            "   9  18  27  36  45  54  63  72  81  90  99 108 117 126 135 144 153 162 171\n",
            "  10  20  30  40  50  60  70  80  90 100 110 120 130 140 150 160 170 180 190\n",
            "  11  22  33  44  55  66  77  88  99 110 121 132 143 154 165 176 187 198 209\n",
            "  12  24  36  48  60  72  84  96 108 120 132 144 156 168 180 192 204 216 228\n",
            "  13  26  39  52  65  78  91 104 117 130 143 156 169 182 195 208 221 234 247\n",
            "  14  28  42  56  70  84  98 112 126 140 154 168 182 196 210 224 238 252 266\n",
            "  15  30  45  60  75  90 105 120 135 150 165 180 195 210 225 240 255 270 285\n",
            "  16  32  48  64  80  96 112 128 144 160 176 192 208 224 240 256 272 288 304\n",
            "  17  34  51  68  85 102 119 136 153 170 187 204 221 238 255 272 289 306 323\n",
            "  18  36  54  72  90 108 126 144 162 180 198 216 234 252 270 288 306 324 342\n",
            "  19  38  57  76  95 114 133 152 171 190 209 228 247 266 285 304 323 342 361\n"
          ]
        }
      ]
    },
    {
      "cell_type": "markdown",
      "metadata": {
        "id": "19w5m1opizCL"
      },
      "source": [
        "## libm の利用確認"
      ]
    },
    {
      "cell_type": "code",
      "metadata": {
        "colab": {
          "base_uri": "https://localhost:8080/"
        },
        "id": "Jb9NIUKjil-p",
        "outputId": "35d30489-8991-4c07-9856-c92e4018627b"
      },
      "source": [
        "%%file sqrt.c\n",
        "#include <stdio.h>\n",
        "#include <math.h>\n",
        "\n",
        "int main(void)\n",
        "{\n",
        "    double x;\n",
        " \n",
        "    x = 2.0;\n",
        "\n",
        "    printf(\"√%f = %f\\n\", x, sqrt(x));\n",
        "\n",
        "    return 0;\n",
        "}\n"
      ],
      "execution_count": 12,
      "outputs": [
        {
          "output_type": "stream",
          "name": "stdout",
          "text": [
            "Writing sqrt.c\n"
          ]
        }
      ]
    },
    {
      "cell_type": "code",
      "metadata": {
        "colab": {
          "base_uri": "https://localhost:8080/"
        },
        "id": "LLvqI0dTjbp1",
        "outputId": "3ba86264-70eb-4a1f-e57d-5177aa66e856"
      },
      "source": [
        "!clang sqrt.c && ./a.out"
      ],
      "execution_count": 13,
      "outputs": [
        {
          "output_type": "stream",
          "name": "stdout",
          "text": [
            "/tmp/sqrt-e93d05.o: In function `main':\n",
            "sqrt.c:(.text+0x3d): undefined reference to `sqrt'\n",
            "clang: \u001b[0;1;31merror: \u001b[0mlinker command failed with exit code 1 (use -v to see invocation)\u001b[0m\n"
          ]
        }
      ]
    },
    {
      "cell_type": "code",
      "metadata": {
        "colab": {
          "base_uri": "https://localhost:8080/"
        },
        "id": "76RG08HMjeqk",
        "outputId": "45985638-8ae1-43b0-f766-b4a54e6a2103"
      },
      "source": [
        "!clang sqrt.c -lm && ./a.out"
      ],
      "execution_count": 14,
      "outputs": [
        {
          "output_type": "stream",
          "name": "stdout",
          "text": [
            "√2.000000 = 1.414214\n"
          ]
        }
      ]
    },
    {
      "cell_type": "code",
      "metadata": {
        "colab": {
          "base_uri": "https://localhost:8080/"
        },
        "id": "2mlwHL-zjkpb",
        "outputId": "7db6b486-62ab-478e-9958-a190abc0589a"
      },
      "source": [
        "!gcc sqrt.c && ./a.out"
      ],
      "execution_count": 15,
      "outputs": [
        {
          "output_type": "stream",
          "name": "stdout",
          "text": [
            "/tmp/ccAzJ38T.o: In function `main':\n",
            "sqrt.c:(.text+0x23): undefined reference to `sqrt'\n",
            "collect2: error: ld returned 1 exit status\n"
          ]
        }
      ]
    },
    {
      "cell_type": "code",
      "metadata": {
        "colab": {
          "base_uri": "https://localhost:8080/"
        },
        "id": "ytO0tglzj_IV",
        "outputId": "d3ce793d-06c1-443c-c2df-1c103d31797c"
      },
      "source": [
        "!gcc sqrt.c -lm && ./a.out"
      ],
      "execution_count": 16,
      "outputs": [
        {
          "output_type": "stream",
          "name": "stdout",
          "text": [
            "√2.000000 = 1.414214\n"
          ]
        }
      ]
    },
    {
      "cell_type": "markdown",
      "metadata": {
        "id": "j7wqNlriRXTk"
      },
      "source": [
        "## バイナリダンプ"
      ]
    },
    {
      "cell_type": "code",
      "metadata": {
        "colab": {
          "base_uri": "https://localhost:8080/"
        },
        "id": "r1iOT18XRiQz",
        "outputId": "4f2a1ade-6395-4446-8090-af39bb2d862b"
      },
      "source": [
        "%%file 12345aiueo.txt\n",
        "123\n",
        "あいう\n"
      ],
      "execution_count": 26,
      "outputs": [
        {
          "output_type": "stream",
          "name": "stdout",
          "text": [
            "Overwriting 12345aiueo.txt\n"
          ]
        }
      ]
    },
    {
      "cell_type": "code",
      "metadata": {
        "colab": {
          "base_uri": "https://localhost:8080/"
        },
        "id": "9mR8VdKTl_Ob",
        "outputId": "654deb68-1751-448d-a2d3-47a54a547bb7"
      },
      "source": [
        "!od -t u1 12345aiueo.txt"
      ],
      "execution_count": 29,
      "outputs": [
        {
          "output_type": "stream",
          "name": "stdout",
          "text": [
            "0000000  49  50  51  10 227 129 130 227 129 132 227 129 134\n",
            "0000015\n"
          ]
        }
      ]
    },
    {
      "cell_type": "markdown",
      "metadata": {
        "id": "h_0vuNXuTmwL"
      },
      "source": [
        "## リダイレクト"
      ]
    },
    {
      "cell_type": "code",
      "metadata": {
        "colab": {
          "base_uri": "https://localhost:8080/"
        },
        "id": "ZD0BSiArR46Q",
        "outputId": "29e85102-87a1-4ab8-b07c-119ff849755d"
      },
      "source": [
        "%%file data.txt\n",
        "1\n",
        "2\n",
        "3\n",
        "4\n",
        "5\n",
        "6\n",
        "7\n",
        "8\n",
        "9\n",
        "10\n",
        "-1"
      ],
      "execution_count": 30,
      "outputs": [
        {
          "output_type": "stream",
          "name": "stdout",
          "text": [
            "Writing data.txt\n"
          ]
        }
      ]
    },
    {
      "cell_type": "code",
      "metadata": {
        "colab": {
          "base_uri": "https://localhost:8080/"
        },
        "id": "r8SXWoV8T5D2",
        "outputId": "be9ca3c8-010e-434c-80f4-080a4b1bda85"
      },
      "source": [
        "%%file calc.c\n",
        "#include <stdio.h>\n",
        "\n",
        "int main(void)\n",
        "{\n",
        "    double x, sum = 0.0;\n",
        " \n",
        "    while (scanf(\"%lf\", &x), x >= 0) {\n",
        "        sum += x;\n",
        "    }\n",
        " \n",
        "    printf(\"合計 %f\\n\", sum);\n",
        "\n",
        "    return 0;\n",
        "}"
      ],
      "execution_count": 31,
      "outputs": [
        {
          "output_type": "stream",
          "name": "stdout",
          "text": [
            "Writing calc.c\n"
          ]
        }
      ]
    },
    {
      "cell_type": "code",
      "metadata": {
        "colab": {
          "base_uri": "https://localhost:8080/"
        },
        "id": "6zVN2OniVN0f",
        "outputId": "10b90b1f-864b-401b-c414-c4dfd5c3c0a3"
      },
      "source": [
        "!clang calc.c && ./a.out < data.txt"
      ],
      "execution_count": 33,
      "outputs": [
        {
          "output_type": "stream",
          "name": "stdout",
          "text": [
            "合計 55.000000\n"
          ]
        }
      ]
    },
    {
      "cell_type": "code",
      "metadata": {
        "id": "BbBO0a23VRFo"
      },
      "source": [
        ""
      ],
      "execution_count": null,
      "outputs": []
    }
  ]
}