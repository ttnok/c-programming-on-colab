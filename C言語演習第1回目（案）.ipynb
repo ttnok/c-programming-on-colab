{
  "nbformat": 4,
  "nbformat_minor": 0,
  "metadata": {
    "colab": {
      "name": "C言語演習第1回目（案）.ipynb",
      "provenance": [],
      "collapsed_sections": [],
      "authorship_tag": "ABX9TyMe/IBPOtlO0wqAs3mddBvD",
      "include_colab_link": true
    },
    "kernelspec": {
      "name": "python3",
      "display_name": "Python 3"
    },
    "language_info": {
      "name": "python"
    }
  },
  "cells": [
    {
      "cell_type": "markdown",
      "metadata": {
        "id": "view-in-github",
        "colab_type": "text"
      },
      "source": [
        "<a href=\"https://colab.research.google.com/github/ttnok/c-programming-on-colab/blob/main/C%E8%A8%80%E8%AA%9E%E6%BC%94%E7%BF%92%E7%AC%AC1%E5%9B%9E%E7%9B%AE%EF%BC%88%E6%A1%88%EF%BC%89.ipynb\" target=\"_parent\"><img src=\"https://colab.research.google.com/assets/colab-badge.svg\" alt=\"Open In Colab\"/></a>"
      ]
    },
    {
      "cell_type": "markdown",
      "metadata": {
        "id": "_0vYJ9ecBvpM"
      },
      "source": [
        "# C 言語演習 第 1 回\n",
        "\n",
        "※ 実在する授業のノートではありません。\n",
        "\n",
        "## 内容\n",
        "1. Google Colab（Google Colaboratory）のノートブックへのアクセス\n",
        "2. ノートブックのコードの実行\n",
        "3. 書き換えて、再実行\n",
        "4. PDF 化して提出する方法\n",
        "\n",
        "## 出席アンケート\n",
        "（MS Forms へのリンク）\n",
        "\n",
        "## 宿題\n",
        "1. フォントの設定\n",
        "2. わざとエラーを起こし、5 タイプ以上のエラーを見つける。"
      ]
    },
    {
      "cell_type": "markdown",
      "metadata": {
        "id": "roV4gfbBDJYT"
      },
      "source": [
        "# 1.Google Colab へのアクセス\n",
        "\n",
        "このノートブックへは Google Chrome か Microsoft Edge でアクセスしてください。\n",
        "他のブラウザでも動作する場合がありますが、この授業ではサポートしません。"
      ]
    },
    {
      "cell_type": "markdown",
      "metadata": {
        "id": "JyBlOwZ3DUIu"
      },
      "source": [
        "# 2.ノートブックのコードの実行\n",
        "\n",
        "（ここに作業の流れがわかるように簡単な図を入れる。ソースコード ==（コンパイル）==> 実行ファイル）\n"
      ]
    },
    {
      "cell_type": "markdown",
      "metadata": {
        "id": "owP4T-YBDmN3"
      },
      "source": [
        "## 2.1. コード（プログラム）例\n",
        "\n",
        "まずはこのプログラムから始めましょう。\n",
        "簡単なプログラムについて、実行する方法を学びます。\n",
        "\n",
        "1行目付近左側の実行ボタン▶️を押すと、`01hello.c` というファイルが作成されます。1行目はプログラムではなく、この Google Colab でプログラミングする際に特有な指示です。2 行目以下を `01hello.c` という名前で保存せよという意味になります。\n",
        "\n",
        "実行ボタン▶️を押してください。"
      ]
    },
    {
      "cell_type": "code",
      "metadata": {
        "colab": {
          "base_uri": "https://localhost:8080/"
        },
        "id": "mTQV94GDBn_q",
        "outputId": "39c5ad58-53da-4d4c-eeee-de65c790fb9c"
      },
      "source": [
        "%%file 01hello.c\n",
        "#include <stdio.h>\n",
        "\n",
        "int main(void)\n",
        "{\n",
        "    printf(\"Hello!\");\n",
        "\n",
        "    return 0;\n",
        "}\n"
      ],
      "execution_count": null,
      "outputs": [
        {
          "output_type": "stream",
          "name": "stdout",
          "text": [
            "Overwriting 01hello.c\n"
          ]
        }
      ]
    },
    {
      "cell_type": "markdown",
      "metadata": {
        "id": "kXZe_5ntER9e"
      },
      "source": [
        "## 2.2. ソースコードファイルの確認\n",
        "\n",
        "左の 🗂 アイコンをクリックして、 `01hello.c` という名前のファイルがあることを確認しよう。\n",
        "さらにそのファイルをダブルクリックして、内容を確認してみよう。 \n",
        "\n",
        "上のセルの 2 行目以下が保存されているのが確認できると思います。\n",
        "\n",
        "## 用語\n",
        "**ソース**（source）というのは、源とか元となるものという意味です。\n",
        "「情報のソースはどこだ」のような使用例は聞いたことがあると思います。\n",
        "情報のソースというのは情報源のことですね。\n",
        "ソース電流、シンク電流という用語を聞いたこともあるかもしれませんね。\n",
        "\n",
        "実際にコンピュータが実行できるのは機械語であり、通常 2 進数や 16 進数で表されるスイッチの集まりなので、上のソースコードを機械語に変換する必要があります。\n",
        "その機械語の元となるということで「ソース」コードというわけです。\n",
        "\n",
        "**コード**（code）というのは説明不要と思いますが、体系づけられた意味を持つ記号の並びで、文脈によっては「符号」と訳されます。\n",
        "QR コードとか、バーコードとかはおなじみでしょう。\n",
        "モールスコード（モールス符号、モールス信号）も知っている人は多いのではないでしょうか。\n",
        "\n",
        "プログラミング初心者にとっては、上記のコードは記号の羅列に見えるかもしれません。これから徐々に複雑なプログラムを作成していきますが、その過程で意味的な塊が見えるようになってくると思います。まずは、それぞれの記号をおろそかにせずにひとつひとつ丁寧に見るように心がけてください。"
      ]
    },
    {
      "cell_type": "markdown",
      "metadata": {
        "id": "lZJkKgEcD9bY"
      },
      "source": [
        "## 2.3. 上記コードの実行\n",
        "\n",
        "上で作成した、ソースコードはそのままではコンピュータは解釈できません。\n",
        "それをコンピュータにとって、より実行しやすい形式に変換（コンパイル）する必要があります。ここで用いる C コンパイラでは、最終的に機械語（トグルスイッチだけが並んだ言語、通常 16 進数や 2 進数で表される）に変換されます。\n",
        "その変換した結果（とくにファイル名を指定しなければ `a.out` という名前のファイルが作成されるので、それを実行します。\n",
        "\n",
        "次の実行セルの実行ボタン▶️を押してください。"
      ]
    },
    {
      "cell_type": "code",
      "metadata": {
        "colab": {
          "base_uri": "https://localhost:8080/"
        },
        "id": "ULlsvYjMEDnL",
        "outputId": "52e46c79-7f97-4051-8568-96d62e10944a"
      },
      "source": [
        "! clang 01hello.c && ./a.out"
      ],
      "execution_count": null,
      "outputs": [
        {
          "output_type": "stream",
          "name": "stdout",
          "text": [
            "Hello!"
          ]
        }
      ]
    },
    {
      "cell_type": "markdown",
      "metadata": {
        "id": "AFvzBI8RJ6h0"
      },
      "source": [
        "# 3.書き換えて、再実行\n",
        "\n",
        "`2.1.` のコードを書き換えて、`2.3.` で再実行してみよう。"
      ]
    },
    {
      "cell_type": "markdown",
      "metadata": {
        "id": "sTK45w69KFIf"
      },
      "source": [
        "1. `2.1.` のコード（プログラム）を書き換えて「こんにちは」と表示されるようにしてみよう。\n",
        "2. `printf` （プリント・エフ）と書かれている行をコピーして（キーボードから打ち込んでもよい）、「こんにちは」が 2 回表示されるようにしてみよう。\n",
        "3. `printf` の代わりに `puts` （プット・エス、あるいはプット・ストリング）と書き換えて、動作を比較してみよう。\n",
        "4. 好きな顔文字などを表示させてみよう 😁\n",
        "\n",
        "わけが分からなくなったら、以下のコードをコピーしてやり直してください。\n",
        "\n",
        "```c\n",
        "#include <stdio.h>\n",
        "\n",
        "int main(void)\n",
        "{\n",
        "    printf(\"Hello!\");\n",
        "\n",
        "    return 0;\n",
        "}\n",
        "```"
      ]
    },
    {
      "cell_type": "markdown",
      "metadata": {
        "id": "MJlyl-PoK4gQ"
      },
      "source": [
        "# 4.提出方法\n",
        "\n",
        "今回はこのノートブックを PDF に変換して提出してください。"
      ]
    },
    {
      "cell_type": "markdown",
      "metadata": {
        "id": "C_EgHfPCfxVj"
      },
      "source": [
        "# 宿題 1 --- プログラミング用フォントのインストール、ブラウザの設定\n",
        "\n",
        "次のコードにはエラーがありますが、保存してから実行を試みてください。"
      ]
    },
    {
      "cell_type": "code",
      "metadata": {
        "colab": {
          "base_uri": "https://localhost:8080/"
        },
        "id": "E-INKeXXgzgy",
        "outputId": "e211e7c3-3edf-44da-9891-eaa3ce1ca86e"
      },
      "source": [
        "%%file 01error.c\n",
        "#include <stdio.h>\n",
        "\n",
        "int main(void)\n",
        "{\n",
        "    printf(\"Hello!\");\n",
        "\n",
        "    return 0\n",
        "}\n"
      ],
      "execution_count": null,
      "outputs": [
        {
          "output_type": "stream",
          "name": "stdout",
          "text": [
            "Writing 01error.c\n"
          ]
        }
      ]
    },
    {
      "cell_type": "code",
      "metadata": {
        "colab": {
          "base_uri": "https://localhost:8080/"
        },
        "id": "dQeQHAEShOPA",
        "outputId": "6a0f67e3-8e2e-49a0-ae94-c7d56de74054"
      },
      "source": [
        "# 実行（コンパイル & 実行）\n",
        "! clang 01error.c && ./a.out"
      ],
      "execution_count": null,
      "outputs": [
        {
          "output_type": "stream",
          "name": "stdout",
          "text": [
            "\u001b[1m01error.c:7:13: \u001b[0m\u001b[0;1;31merror: \u001b[0m\u001b[1mexpected ';' after return statement\u001b[0m\n",
            "    return 0\n",
            "\u001b[0;1;32m            ^\n",
            "\u001b[0m\u001b[0;32m            ;\n",
            "\u001b[0m1 error generated.\n"
          ]
        }
      ]
    },
    {
      "cell_type": "markdown",
      "metadata": {
        "id": "KBp86XvShbgy"
      },
      "source": [
        "エラーメッセージが出るはずです。\n",
        "セミコロンが足りないという意味のエラーですが、挿入すべき位置がずれて表示されているかもしれません。これはブラウザのフォントの設定を変更することにより正しい位置に表示させることができます。"
      ]
    },
    {
      "cell_type": "markdown",
      "metadata": {
        "id": "XBBRZFD9f0l4"
      },
      "source": [
        "# 宿題 2"
      ]
    }
  ]
}