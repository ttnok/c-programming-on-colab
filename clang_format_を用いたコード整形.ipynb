{
  "nbformat": 4,
  "nbformat_minor": 0,
  "metadata": {
    "colab": {
      "name": "clang-format を用いたコード整形.ipynb",
      "provenance": [],
      "collapsed_sections": [],
      "authorship_tag": "ABX9TyNph5NM0mGKoX6aZXazPDo6",
      "include_colab_link": true
    },
    "kernelspec": {
      "name": "python3",
      "display_name": "Python 3"
    },
    "language_info": {
      "name": "python"
    }
  },
  "cells": [
    {
      "cell_type": "markdown",
      "metadata": {
        "id": "view-in-github",
        "colab_type": "text"
      },
      "source": [
        "<a href=\"https://colab.research.google.com/github/ttnok/c-programming-on-colab/blob/main/clang_format_%E3%82%92%E7%94%A8%E3%81%84%E3%81%9F%E3%82%B3%E3%83%BC%E3%83%89%E6%95%B4%E5%BD%A2.ipynb\" target=\"_parent\"><img src=\"https://colab.research.google.com/assets/colab-badge.svg\" alt=\"Open In Colab\"/></a>"
      ]
    },
    {
      "cell_type": "markdown",
      "metadata": {
        "id": "aOhhKg0cZ-C2"
      },
      "source": [
        "# clang-format を用いたコード整形"
      ]
    },
    {
      "cell_type": "code",
      "metadata": {
        "colab": {
          "base_uri": "https://localhost:8080/"
        },
        "id": "BEibcGL7ZQuQ",
        "outputId": "e0b68988-8864-4cbc-a208-6f0b05664e72"
      },
      "source": [
        "!apt install clang-format"
      ],
      "execution_count": null,
      "outputs": [
        {
          "output_type": "stream",
          "name": "stdout",
          "text": [
            "Reading package lists... Done\n",
            "Building dependency tree       \n",
            "Reading state information... Done\n",
            "clang-format is already the newest version (1:6.0-41~exp5~ubuntu1).\n",
            "0 upgraded, 0 newly installed, 0 to remove and 40 not upgraded.\n"
          ]
        }
      ]
    },
    {
      "cell_type": "code",
      "metadata": {
        "colab": {
          "base_uri": "https://localhost:8080/"
        },
        "id": "oCE9-p55hpxx",
        "outputId": "64e23451-0c3b-43a1-b6af-1f4058d47ed0"
      },
      "source": [
        "%%file hello.c\n",
        "#include <stdio.h>\n",
        "\n",
        "int main\n",
        "(void){\n",
        "printf\n",
        "(\"Hello\"\n",
        ")\n",
        ";\n",
        "     \n",
        "return 0;}"
      ],
      "execution_count": null,
      "outputs": [
        {
          "output_type": "stream",
          "name": "stdout",
          "text": [
            "Overwriting hello.c\n"
          ]
        }
      ]
    },
    {
      "cell_type": "code",
      "metadata": {
        "colab": {
          "base_uri": "https://localhost:8080/"
        },
        "id": "zvFGqo23iFsk",
        "outputId": "f42ced68-8d16-43e5-d7d2-7be522c66cc3"
      },
      "source": [
        "!clang-format -style=webkit hello.c"
      ],
      "execution_count": null,
      "outputs": [
        {
          "output_type": "stream",
          "name": "stdout",
          "text": [
            "#include <stdio.h>\n",
            "\n",
            "int main(void)\n",
            "{\n",
            "    printf(\"Hello\");\n",
            "\n",
            "    return 0;\n",
            "}"
          ]
        }
      ]
    },
    {
      "cell_type": "code",
      "metadata": {
        "colab": {
          "base_uri": "https://localhost:8080/"
        },
        "id": "rwPGTIogdOQO",
        "outputId": "9623a327-a3bb-48a1-86ef-a1b366f8d78e"
      },
      "source": [
        "!cat hello.c"
      ],
      "execution_count": null,
      "outputs": [
        {
          "output_type": "stream",
          "name": "stdout",
          "text": [
            "#include <stdio.h>\n",
            "\n",
            "int main\n",
            "(void){\n",
            "printf\n",
            "(\"Hello\"\n",
            ")\n",
            ";\n",
            "     \n",
            "return 0;}"
          ]
        }
      ]
    }
  ]
}