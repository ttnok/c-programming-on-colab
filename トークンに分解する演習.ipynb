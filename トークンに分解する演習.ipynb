{
  "nbformat": 4,
  "nbformat_minor": 0,
  "metadata": {
    "colab": {
      "name": "トークンに分解する演習.ipynb",
      "provenance": [],
      "collapsed_sections": [],
      "authorship_tag": "ABX9TyPnW2rLL7HKCdgUR6r3E/Bu",
      "include_colab_link": true
    },
    "kernelspec": {
      "name": "python3",
      "display_name": "Python 3"
    },
    "language_info": {
      "name": "python"
    }
  },
  "cells": [
    {
      "cell_type": "markdown",
      "metadata": {
        "id": "view-in-github",
        "colab_type": "text"
      },
      "source": [
        "<a href=\"https://colab.research.google.com/github/ttnok/c-programming-on-colab/blob/main/%E3%83%88%E3%83%BC%E3%82%AF%E3%83%B3%E3%81%AB%E5%88%86%E8%A7%A3%E3%81%99%E3%82%8B%E6%BC%94%E7%BF%92.ipynb\" target=\"_parent\"><img src=\"https://colab.research.google.com/assets/colab-badge.svg\" alt=\"Open In Colab\"/></a>"
      ]
    },
    {
      "cell_type": "markdown",
      "metadata": {
        "id": "RjLHTqEMyPm7"
      },
      "source": [
        "## トークン（字句）への分解"
      ]
    },
    {
      "cell_type": "markdown",
      "metadata": {
        "id": "Zw2HFBKZygIe"
      },
      "source": [
        "## 見た目普通のコード"
      ]
    },
    {
      "cell_type": "code",
      "metadata": {
        "colab": {
          "base_uri": "https://localhost:8080/"
        },
        "id": "l4WJR9dix6tx",
        "outputId": "28e050d3-4f81-467e-b773-338ebab27b50"
      },
      "source": [
        "%%file hello.c\n",
        "#include <stdio.h>\n",
        "\n",
        "int main(void)\n",
        "{\n",
        "    printf(\"Hello!\\n\");\n",
        "\n",
        "    return 0;\n",
        "}"
      ],
      "execution_count": 1,
      "outputs": [
        {
          "output_type": "stream",
          "name": "stdout",
          "text": [
            "Writing hello.c\n"
          ]
        }
      ]
    },
    {
      "cell_type": "code",
      "metadata": {
        "colab": {
          "base_uri": "https://localhost:8080/"
        },
        "id": "170WNKP7yX6L",
        "outputId": "9656f21e-87ba-4306-91ba-c7e9b94b3081"
      },
      "source": [
        "!clang hello.c && ./a.out"
      ],
      "execution_count": 2,
      "outputs": [
        {
          "output_type": "stream",
          "name": "stdout",
          "text": [
            "Hello!\n"
          ]
        }
      ]
    },
    {
      "cell_type": "markdown",
      "metadata": {
        "id": "9zVfXrSUyj1s"
      },
      "source": [
        "## トークン毎にバラバラの行に分けられたコード"
      ]
    },
    {
      "cell_type": "markdown",
      "metadata": {
        "id": "u-ogarGlysof"
      },
      "source": [
        "\n"
      ]
    },
    {
      "cell_type": "code",
      "metadata": {
        "colab": {
          "base_uri": "https://localhost:8080/"
        },
        "id": "AYksP44JyxWd",
        "outputId": "003dd347-b02e-4ecc-c6c7-1a6e9638b830"
      },
      "source": [
        "%%file hello-tokens.c\n",
        "#include <stdio.h>\n",
        "\n",
        "int\n",
        "main\n",
        "(\n",
        "void\n",
        ")\n",
        "{\n",
        "printf\n",
        "(\n",
        "\"Hello!\\n\"\n",
        ")\n",
        ";\n",
        "return\n",
        "0\n",
        ";\n",
        "}"
      ],
      "execution_count": 9,
      "outputs": [
        {
          "output_type": "stream",
          "name": "stdout",
          "text": [
            "Overwriting hello-tokens.c\n"
          ]
        }
      ]
    },
    {
      "cell_type": "code",
      "metadata": {
        "colab": {
          "base_uri": "https://localhost:8080/"
        },
        "id": "c8v8q1U-y3Hn",
        "outputId": "7659908b-b6a4-49df-b675-d37b583f4eed"
      },
      "source": [
        "!clang hello-tokens.c && ./a.out"
      ],
      "execution_count": 10,
      "outputs": [
        {
          "output_type": "stream",
          "name": "stdout",
          "text": [
            "Hello!\n"
          ]
        }
      ]
    },
    {
      "cell_type": "markdown",
      "metadata": {
        "id": "zG0g6EN2zQxj"
      },
      "source": [
        "## トークンに分解してみよう"
      ]
    },
    {
      "cell_type": "markdown",
      "metadata": {
        "id": "M33zeNFaz-Ht"
      },
      "source": [
        "### もとのコード（トークンへの分解前）"
      ]
    },
    {
      "cell_type": "code",
      "metadata": {
        "colab": {
          "base_uri": "https://localhost:8080/"
        },
        "id": "mNBfKodlzYpz",
        "outputId": "b7bb0ad8-09d1-41da-d8b4-bfcd5041901f"
      },
      "source": [
        "%%file sum.c\n",
        "#include <stdio.h>\n",
        "\n",
        "int main(void)\n",
        "{\n",
        "    int a, b;\n",
        " \n",
        "    printf(\"a = \"); scanf(\"%d\", &a);\n",
        "    printf(\"b = \"); scanf(\"%d\", &b);\n",
        "\n",
        "    printf(\"a + b = %d + %d = %d\\n\", a, b, a + b);\n",
        "\n",
        "    return 0;\n",
        "}\n"
      ],
      "execution_count": 11,
      "outputs": [
        {
          "output_type": "stream",
          "name": "stdout",
          "text": [
            "Writing sum.c\n"
          ]
        }
      ]
    },
    {
      "cell_type": "code",
      "metadata": {
        "colab": {
          "base_uri": "https://localhost:8080/"
        },
        "id": "Z5Gf0DnvzUck",
        "outputId": "3056ca0e-70eb-4c6e-ba3e-c6c10b6c1ef0"
      },
      "source": [
        "!clang sum.c && ./a.out"
      ],
      "execution_count": 12,
      "outputs": [
        {
          "output_type": "stream",
          "name": "stdout",
          "text": [
            "a = 2\n",
            "b = 3\n",
            "a + b = 2 + 3 = 5\n"
          ]
        }
      ]
    },
    {
      "cell_type": "markdown",
      "metadata": {
        "id": "Fh8xd_uM0EVa"
      },
      "source": [
        "### 分解後のコード（分解してみよう）"
      ]
    },
    {
      "cell_type": "code",
      "metadata": {
        "id": "OKMSTDv8z5hj"
      },
      "source": [
        "%%file sum-tokens.c\n",
        "#include <stdio.h>\n",
        "\n",
        "int main(void)\n",
        "{\n",
        "    int a, b;\n",
        " \n",
        "    printf(\"a = \"); scanf(\"%d\", &a);\n",
        "    printf(\"b = \"); scanf(\"%d\", &b);\n",
        "\n",
        "    printf(\"a + b = %d + %d = %d\\n\", a, b, a + b);\n",
        "\n",
        "    return 0;\n",
        "}\n"
      ],
      "execution_count": null,
      "outputs": []
    },
    {
      "cell_type": "markdown",
      "metadata": {
        "id": "MDEGbO3p0Nno"
      },
      "source": [
        "分解しすぎていないことを確かめるためにコンパイル後、実行してみよう。"
      ]
    },
    {
      "cell_type": "code",
      "metadata": {
        "id": "NvAG7lPTz8gC"
      },
      "source": [
        "!clang sum-tokens.c && ./a.out"
      ],
      "execution_count": null,
      "outputs": []
    },
    {
      "cell_type": "markdown",
      "metadata": {
        "id": "7DBWCub80orV"
      },
      "source": [
        "## 各トークンの種類、意味"
      ]
    }
  ]
}