{
  "nbformat": 4,
  "nbformat_minor": 0,
  "metadata": {
    "colab": {
      "name": "エラー修正課題例.ipynb",
      "provenance": [],
      "authorship_tag": "ABX9TyOkDHAzj8KX1q3tX6MXepj/",
      "include_colab_link": true
    },
    "kernelspec": {
      "name": "python3",
      "display_name": "Python 3"
    },
    "language_info": {
      "name": "python"
    }
  },
  "cells": [
    {
      "cell_type": "markdown",
      "metadata": {
        "id": "view-in-github",
        "colab_type": "text"
      },
      "source": [
        "<a href=\"https://colab.research.google.com/github/ttnok/c-programming-on-colab/blob/main/%E3%82%A8%E3%83%A9%E3%83%BC%E4%BF%AE%E6%AD%A3%E8%AA%B2%E9%A1%8C%E4%BE%8B.ipynb\" target=\"_parent\"><img src=\"https://colab.research.google.com/assets/colab-badge.svg\" alt=\"Open In Colab\"/></a>"
      ]
    },
    {
      "cell_type": "markdown",
      "metadata": {
        "id": "uUDW2ebSgmOq"
      },
      "source": [
        "# エラーを修正せよ！\n",
        "\n",
        "どのプログラムも「Hello!」あるいは「こんにちは」と表示（改行付き）するプログラムである。\n",
        "第 1 問から第 9 問までは、修正箇所は 1 箇所である。第 10 問は複数箇所に間違いがある。\n",
        "\n",
        "修正箇所を特定し、修正して実行せよ。"
      ]
    },
    {
      "cell_type": "markdown",
      "metadata": {
        "id": "riIjHa39jZ_N"
      },
      "source": [
        "## 第 1 問"
      ]
    },
    {
      "cell_type": "code",
      "metadata": {
        "colab": {
          "base_uri": "https://localhost:8080/"
        },
        "id": "8zy8LVDFgld8",
        "outputId": "f115a7b2-05f1-410b-d7e9-366dacb09c20"
      },
      "source": [
        "%%file hello01.c\n",
        "#include <studio.h>\n",
        "\n",
        "int main(void)\n",
        "{\n",
        "    printf(\"Hello!\\n\");\n",
        "\n",
        "    return 0;\n",
        "}\n"
      ],
      "execution_count": 1,
      "outputs": [
        {
          "output_type": "stream",
          "name": "stdout",
          "text": [
            "Overwriting hello01.c\n"
          ]
        }
      ]
    },
    {
      "cell_type": "code",
      "metadata": {
        "colab": {
          "base_uri": "https://localhost:8080/"
        },
        "id": "VKwmXldwg8LK",
        "outputId": "8f378c76-9891-4517-cb9a-4a5928ecbee5"
      },
      "source": [
        "!clang hello01.c && ./a.out"
      ],
      "execution_count": 2,
      "outputs": [
        {
          "output_type": "stream",
          "name": "stdout",
          "text": [
            "\u001b[1mhello01.c:1:10: \u001b[0m\u001b[0;1;31mfatal error: \u001b[0m\u001b[1m'studio.h' file not found\u001b[0m\n",
            "#include <studio.h>\n",
            "\u001b[0;1;32m         ^~~~~~~~~~\n",
            "\u001b[0m1 error generated.\n"
          ]
        }
      ]
    },
    {
      "cell_type": "markdown",
      "metadata": {
        "id": "5pHoN7S6jgq0"
      },
      "source": [
        "## 第 2 問"
      ]
    },
    {
      "cell_type": "code",
      "metadata": {
        "colab": {
          "base_uri": "https://localhost:8080/"
        },
        "id": "fb9Sr3mxhLfA",
        "outputId": "e3ef9436-cf63-440a-a85a-fad816254d73"
      },
      "source": [
        "%%file hello02.c\n",
        "#include <stdio.h>\n",
        "\n",
        "int mein(void)\n",
        "{\n",
        "    printf(\"Hello!\\n\");\n",
        "\n",
        "    return 0;\n",
        "}\n"
      ],
      "execution_count": 3,
      "outputs": [
        {
          "output_type": "stream",
          "name": "stdout",
          "text": [
            "Overwriting hello02.c\n"
          ]
        }
      ]
    },
    {
      "cell_type": "code",
      "metadata": {
        "colab": {
          "base_uri": "https://localhost:8080/"
        },
        "id": "WuzUU3evhYk9",
        "outputId": "3583474c-4bf8-4188-d192-556009ead7c3"
      },
      "source": [
        "!clang hello02.c && ./a.out"
      ],
      "execution_count": 4,
      "outputs": [
        {
          "output_type": "stream",
          "name": "stdout",
          "text": [
            "/usr/bin/../lib/gcc/x86_64-linux-gnu/7.5.0/../../../x86_64-linux-gnu/crt1.o: In function `_start':\n",
            "(.text+0x20): undefined reference to `main'\n",
            "clang: \u001b[0;1;31merror: \u001b[0mlinker command failed with exit code 1 (use -v to see invocation)\u001b[0m\n"
          ]
        }
      ]
    },
    {
      "cell_type": "markdown",
      "metadata": {
        "id": "Bvuyr--qjh3x"
      },
      "source": [
        "## 第 3 問"
      ]
    },
    {
      "cell_type": "code",
      "metadata": {
        "colab": {
          "base_uri": "https://localhost:8080/"
        },
        "id": "2vy3UqzEhcib",
        "outputId": "f0e63daf-77af-4dd9-9a8b-8c162381c24f"
      },
      "source": [
        "%%file hello03.c\n",
        "#include <stdio.h>\n",
        "\n",
        "int main(void)\n",
        "{\n",
        "    print(\"Hello!\\n\");\n",
        "\n",
        "    return 0;\n",
        "}\n"
      ],
      "execution_count": 5,
      "outputs": [
        {
          "output_type": "stream",
          "name": "stdout",
          "text": [
            "Overwriting hello03.c\n"
          ]
        }
      ]
    },
    {
      "cell_type": "code",
      "metadata": {
        "colab": {
          "base_uri": "https://localhost:8080/"
        },
        "id": "T7w0_G1ThfOY",
        "outputId": "85942f1a-eb85-449b-9c5d-1004a0712eaa"
      },
      "source": [
        "!clang hello03.c && ./a.out"
      ],
      "execution_count": 6,
      "outputs": [
        {
          "output_type": "stream",
          "name": "stdout",
          "text": [
            "\u001b[1mhello03.c:5:5: \u001b[0m\u001b[0;1;35mwarning: \u001b[0m\u001b[1mimplicit declaration of function 'print' is invalid in C99 [-Wimplicit-function-declaration]\u001b[0m\n",
            "    print(\"Hello!\\n\");\n",
            "\u001b[0;1;32m    ^\n",
            "\u001b[0m1 warning generated.\n",
            "/tmp/hello03-ada33e.o: In function `main':\n",
            "hello03.c:(.text+0x1c): undefined reference to `print'\n",
            "clang: \u001b[0;1;31merror: \u001b[0mlinker command failed with exit code 1 (use -v to see invocation)\u001b[0m\n"
          ]
        }
      ]
    },
    {
      "cell_type": "markdown",
      "metadata": {
        "id": "XexATKY1jipy"
      },
      "source": [
        "## 第 4 問"
      ]
    },
    {
      "cell_type": "code",
      "metadata": {
        "colab": {
          "base_uri": "https://localhost:8080/"
        },
        "id": "8EF6yNlghorc",
        "outputId": "8be6ef6d-aae7-4c11-9698-9657ae52309f"
      },
      "source": [
        "%%file hello04.c\n",
        "#include <stdio.h>\n",
        "\n",
        "int main(void)\n",
        "{\n",
        "    printf(\"Hello!\\n\")\n",
        "\n",
        "    return 0;\n",
        "}\n"
      ],
      "execution_count": 7,
      "outputs": [
        {
          "output_type": "stream",
          "name": "stdout",
          "text": [
            "Overwriting hello04.c\n"
          ]
        }
      ]
    },
    {
      "cell_type": "code",
      "metadata": {
        "colab": {
          "base_uri": "https://localhost:8080/"
        },
        "id": "F-EFah8ShtHz",
        "outputId": "875951c8-77d1-4fb5-b884-6973a40191b6"
      },
      "source": [
        "!clang hello04.c && ./a.out"
      ],
      "execution_count": 8,
      "outputs": [
        {
          "output_type": "stream",
          "name": "stdout",
          "text": [
            "\u001b[1mhello04.c:5:23: \u001b[0m\u001b[0;1;31merror: \u001b[0m\u001b[1mexpected ';' after expression\u001b[0m\n",
            "    printf(\"Hello!\\n\")\n",
            "\u001b[0;1;32m                      ^\n",
            "\u001b[0m\u001b[0;32m                      ;\n",
            "\u001b[0m1 error generated.\n"
          ]
        }
      ]
    },
    {
      "cell_type": "markdown",
      "metadata": {
        "id": "ZAo40cozjjib"
      },
      "source": [
        "## 第 5 問"
      ]
    },
    {
      "cell_type": "code",
      "metadata": {
        "colab": {
          "base_uri": "https://localhost:8080/"
        },
        "id": "VQxmfEiPh4E3",
        "outputId": "0f1c8ac3-cb27-4c61-fb5c-46c87a0b40de"
      },
      "source": [
        "%%file hello05.c\n",
        "#include <stdio.h>\n",
        "\n",
        "int main(void)\n",
        "{\n",
        "    printf(\"Hello!\\n);\n",
        "\n",
        "    return 0;\n",
        "}\n"
      ],
      "execution_count": 9,
      "outputs": [
        {
          "output_type": "stream",
          "name": "stdout",
          "text": [
            "Overwriting hello05.c\n"
          ]
        }
      ]
    },
    {
      "cell_type": "code",
      "metadata": {
        "colab": {
          "base_uri": "https://localhost:8080/"
        },
        "id": "ZoUA7DCAh5r0",
        "outputId": "a44b90e4-afc3-4076-ba27-2256c11bd357"
      },
      "source": [
        "!clang hello05.c && ./a.out"
      ],
      "execution_count": 10,
      "outputs": [
        {
          "output_type": "stream",
          "name": "stdout",
          "text": [
            "\u001b[1mhello05.c:5:12: \u001b[0m\u001b[0;1;35mwarning: \u001b[0m\u001b[1mmissing terminating '\"' character [-Winvalid-pp-token]\u001b[0m\n",
            "    printf(\"Hello!\\n);\n",
            "\u001b[0;1;32m           ^\n",
            "\u001b[0m\u001b[1mhello05.c:5:12: \u001b[0m\u001b[0;1;31merror: \u001b[0m\u001b[1mexpected expression\u001b[0m\n",
            "\u001b[1mhello05.c:8:2: \u001b[0m\u001b[0;1;31merror: \u001b[0m\u001b[1mexpected '}'\u001b[0m\n",
            "}\n",
            "\u001b[0;1;32m ^\n",
            "\u001b[0m\u001b[1mhello05.c:4:1: \u001b[0m\u001b[0;1;30mnote: \u001b[0mto match this '{'\u001b[0m\n",
            "{\n",
            "\u001b[0;1;32m^\n",
            "\u001b[0m1 warning and 2 errors generated.\n"
          ]
        }
      ]
    },
    {
      "cell_type": "markdown",
      "metadata": {
        "id": "jRTeKxjxjkR_"
      },
      "source": [
        "## 第 6 問"
      ]
    },
    {
      "cell_type": "code",
      "metadata": {
        "colab": {
          "base_uri": "https://localhost:8080/"
        },
        "id": "1XoX8P4JiFdc",
        "outputId": "4792f3f4-e676-4933-80fb-ec85ec55af4b"
      },
      "source": [
        "%%file hello06.c\n",
        "#include <stdio.h>\n",
        "\n",
        "int main(void)\n",
        "{\n",
        "    printf(\"Hello!\\n\";\n",
        "\n",
        "    return 0;\n",
        "}\n"
      ],
      "execution_count": 11,
      "outputs": [
        {
          "output_type": "stream",
          "name": "stdout",
          "text": [
            "Overwriting hello06.c\n"
          ]
        }
      ]
    },
    {
      "cell_type": "code",
      "metadata": {
        "colab": {
          "base_uri": "https://localhost:8080/"
        },
        "id": "LmHg-1q-iG57",
        "outputId": "8e19bcec-5ae7-474f-cd46-68ee0d511fed"
      },
      "source": [
        "!clang hello06.c && ./a.out"
      ],
      "execution_count": 12,
      "outputs": [
        {
          "output_type": "stream",
          "name": "stdout",
          "text": [
            "\u001b[1mhello06.c:5:22: \u001b[0m\u001b[0;1;31merror: \u001b[0m\u001b[1mexpected ')'\u001b[0m\n",
            "    printf(\"Hello!\\n\";\n",
            "\u001b[0;1;32m                     ^\n",
            "\u001b[0m\u001b[1mhello06.c:5:11: \u001b[0m\u001b[0;1;30mnote: \u001b[0mto match this '('\u001b[0m\n",
            "    printf(\"Hello!\\n\";\n",
            "\u001b[0;1;32m          ^\n",
            "\u001b[0m1 error generated.\n"
          ]
        }
      ]
    },
    {
      "cell_type": "markdown",
      "metadata": {
        "id": "8scMoBzYjk_m"
      },
      "source": [
        "## 第 7 問"
      ]
    },
    {
      "cell_type": "code",
      "metadata": {
        "colab": {
          "base_uri": "https://localhost:8080/"
        },
        "id": "Pgix-bmQiPI4",
        "outputId": "edd61972-30b5-4fdd-daae-abe5d6f12759"
      },
      "source": [
        "%%file hello07.c\n",
        "#include <stdio.h>\n",
        "\n",
        "int main(void)\n",
        "{\n",
        "    printf(\"Hello!\\n\");\n",
        "\n",
        "    return O;\n",
        "}\n"
      ],
      "execution_count": 13,
      "outputs": [
        {
          "output_type": "stream",
          "name": "stdout",
          "text": [
            "Overwriting hello07.c\n"
          ]
        }
      ]
    },
    {
      "cell_type": "code",
      "metadata": {
        "colab": {
          "base_uri": "https://localhost:8080/"
        },
        "id": "OC9lu0W0iQ4L",
        "outputId": "54fa5000-fd9e-4758-9c1a-3d3eb37b5f1d"
      },
      "source": [
        "!clang hello07.c && ./a.out"
      ],
      "execution_count": 14,
      "outputs": [
        {
          "output_type": "stream",
          "name": "stdout",
          "text": [
            "\u001b[1mhello07.c:7:12: \u001b[0m\u001b[0;1;31merror: \u001b[0m\u001b[1muse of undeclared identifier 'O'\u001b[0m\n",
            "    return O;\n",
            "\u001b[0;1;32m           ^\n",
            "\u001b[0m1 error generated.\n"
          ]
        }
      ]
    },
    {
      "cell_type": "markdown",
      "metadata": {
        "id": "-F3tTEW9jlsm"
      },
      "source": [
        "## 第 8 問"
      ]
    },
    {
      "cell_type": "code",
      "metadata": {
        "colab": {
          "base_uri": "https://localhost:8080/"
        },
        "id": "lxnnFy3sicpR",
        "outputId": "87117bfb-1951-4cd6-93e8-82cb2f23b7fc"
      },
      "source": [
        "%%file hello08.c\n",
        "#include <stdio.h>\n",
        "\n",
        "int main(void)\n",
        "{\n",
        "    printf(\"Hello!\\n\");\n",
        "\n",
        "    return 0;\n",
        "\n"
      ],
      "execution_count": 15,
      "outputs": [
        {
          "output_type": "stream",
          "name": "stdout",
          "text": [
            "Overwriting hello08.c\n"
          ]
        }
      ]
    },
    {
      "cell_type": "code",
      "metadata": {
        "colab": {
          "base_uri": "https://localhost:8080/"
        },
        "id": "JWzmfMVDiekf",
        "outputId": "64b515bf-575d-469b-d5cd-1cef7aac24b6"
      },
      "source": [
        "!clang hello08.c && ./a.out"
      ],
      "execution_count": 16,
      "outputs": [
        {
          "output_type": "stream",
          "name": "stdout",
          "text": [
            "\u001b[1mhello08.c:7:14: \u001b[0m\u001b[0;1;31merror: \u001b[0m\u001b[1mexpected '}'\u001b[0m\n",
            "    return 0;\n",
            "\u001b[0;1;32m             ^\n",
            "\u001b[0m\u001b[1mhello08.c:4:1: \u001b[0m\u001b[0;1;30mnote: \u001b[0mto match this '{'\u001b[0m\n",
            "{\n",
            "\u001b[0;1;32m^\n",
            "\u001b[0m1 error generated.\n"
          ]
        }
      ]
    },
    {
      "cell_type": "markdown",
      "metadata": {
        "id": "2OfnrDWhjmWs"
      },
      "source": [
        "## 第 9 問"
      ]
    },
    {
      "cell_type": "code",
      "metadata": {
        "colab": {
          "base_uri": "https://localhost:8080/"
        },
        "id": "MwMXxdcHik7e",
        "outputId": "57ac0879-2c5e-4951-f295-06e74185cd55"
      },
      "source": [
        "%%file hello09.c\n",
        "#include <stdio.h>\n",
        "\n",
        "int main(void)\n",
        "{\n",
        "    printf(\"こんにちは\\n”);\n",
        "\n",
        "    return 0;\n",
        "}\n"
      ],
      "execution_count": 17,
      "outputs": [
        {
          "output_type": "stream",
          "name": "stdout",
          "text": [
            "Overwriting hello09.c\n"
          ]
        }
      ]
    },
    {
      "cell_type": "code",
      "metadata": {
        "colab": {
          "base_uri": "https://localhost:8080/"
        },
        "id": "3rb-JIQ6imX8",
        "outputId": "d00ebe46-4e6b-4850-e7c7-279fa9051c53"
      },
      "source": [
        "!clang hello09.c && ./a.out"
      ],
      "execution_count": 18,
      "outputs": [
        {
          "output_type": "stream",
          "name": "stdout",
          "text": [
            "\u001b[1mhello09.c:5:12: \u001b[0m\u001b[0;1;35mwarning: \u001b[0m\u001b[1mmissing terminating '\"' character [-Winvalid-pp-token]\u001b[0m\n",
            "    printf(\"こんにちは\\n”);\n",
            "\u001b[0;1;32m           ^\n",
            "\u001b[0m\u001b[1mhello09.c:5:12: \u001b[0m\u001b[0;1;31merror: \u001b[0m\u001b[1mexpected expression\u001b[0m\n",
            "\u001b[1mhello09.c:8:2: \u001b[0m\u001b[0;1;31merror: \u001b[0m\u001b[1mexpected '}'\u001b[0m\n",
            "}\n",
            "\u001b[0;1;32m ^\n",
            "\u001b[0m\u001b[1mhello09.c:4:1: \u001b[0m\u001b[0;1;30mnote: \u001b[0mto match this '{'\u001b[0m\n",
            "{\n",
            "\u001b[0;1;32m^\n",
            "\u001b[0m1 warning and 2 errors generated.\n"
          ]
        }
      ]
    },
    {
      "cell_type": "markdown",
      "metadata": {
        "id": "hymKYhCrjnCW"
      },
      "source": [
        "## 第 10 問"
      ]
    },
    {
      "cell_type": "code",
      "metadata": {
        "colab": {
          "base_uri": "https://localhost:8080/"
        },
        "id": "KY1mIFwli4nU",
        "outputId": "a8913eaa-d09b-4461-87ec-895ae0eba2dc"
      },
      "source": [
        "%%file hello10.c\n",
        "#inc1ude <studio.h>\n",
        "\n",
        "into mein(void)\n",
        "\n",
        "    pintf\"こんにちは/n\")\n",
        "\n",
        "    return 0;\n",
        "}\n"
      ],
      "execution_count": 19,
      "outputs": [
        {
          "output_type": "stream",
          "name": "stdout",
          "text": [
            "Overwriting hello10.c\n"
          ]
        }
      ]
    },
    {
      "cell_type": "code",
      "metadata": {
        "colab": {
          "base_uri": "https://localhost:8080/"
        },
        "id": "ttxXRYr-i6Ho",
        "outputId": "379b2094-27aa-4e14-c2cb-21180124edd1"
      },
      "source": [
        "!clang hello10.c && ./a.out"
      ],
      "execution_count": 20,
      "outputs": [
        {
          "output_type": "stream",
          "name": "stdout",
          "text": [
            "\u001b[1mhello10.c:1:2: \u001b[0m\u001b[0;1;31merror: \u001b[0m\u001b[1minvalid preprocessing directive\u001b[0m\n",
            "#inc1ude <studio.h>\n",
            "\u001b[0;1;32m ^\n",
            "\u001b[0m\u001b[1mhello10.c:3:1: \u001b[0m\u001b[0;1;31merror: \u001b[0m\u001b[1munknown type name 'into'; did you mean 'int'?\u001b[0m\n",
            "into mein(void)\n",
            "\u001b[0;1;32m^~~~\n",
            "\u001b[0m\u001b[0;32mint\n",
            "\u001b[0m\u001b[1mhello10.c:5:5: \u001b[0m\u001b[0;1;31merror: \u001b[0m\u001b[1mexpected function body after function declarator\u001b[0m\n",
            "    pintf\"こんにちは/n\")\n",
            "\u001b[0;1;32m    ^\n",
            "\u001b[0m\u001b[1mhello10.c:8:1: \u001b[0m\u001b[0;1;31merror: \u001b[0m\u001b[1mextraneous closing brace ('}')\u001b[0m\n",
            "}\n",
            "\u001b[0;1;32m^\n",
            "\u001b[0m4 errors generated.\n"
          ]
        }
      ]
    }
  ]
}