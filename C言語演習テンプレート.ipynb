{
  "nbformat": 4,
  "nbformat_minor": 0,
  "metadata": {
    "colab": {
      "name": "C言語演習テンプレート.ipynb",
      "provenance": [],
      "collapsed_sections": [],
      "authorship_tag": "ABX9TyOcRDiLlZjYpnhgznV3LlKL",
      "include_colab_link": true
    },
    "kernelspec": {
      "name": "python3",
      "display_name": "Python 3"
    },
    "language_info": {
      "name": "python"
    }
  },
  "cells": [
    {
      "cell_type": "markdown",
      "metadata": {
        "id": "view-in-github",
        "colab_type": "text"
      },
      "source": [
        "<a href=\"https://colab.research.google.com/github/ttnok/c-programming-on-colab/blob/main/C%E8%A8%80%E8%AA%9E%E6%BC%94%E7%BF%92%E3%83%86%E3%83%B3%E3%83%97%E3%83%AC%E3%83%BC%E3%83%88.ipynb\" target=\"_parent\"><img src=\"https://colab.research.google.com/assets/colab-badge.svg\" alt=\"Open In Colab\"/></a>"
      ]
    },
    {
      "cell_type": "markdown",
      "metadata": {
        "id": "_0vYJ9ecBvpM"
      },
      "source": [
        "# C 言語演習 第 n 回\n",
        "\n",
        "## 内容\n",
        "1. hoge\n",
        "2. fuga\n",
        "\n",
        "## 出席アンケート\n",
        "\n",
        "## 宿題\n",
        "1. boo\n",
        "2. foo"
      ]
    },
    {
      "cell_type": "code",
      "metadata": {
        "colab": {
          "base_uri": "https://localhost:8080/"
        },
        "id": "mTQV94GDBn_q",
        "outputId": "39c5ad58-53da-4d4c-eeee-de65c790fb9c"
      },
      "source": [
        "%%file 01hello.c\n",
        "#include <stdio.h>\n",
        "\n",
        "int main(void)\n",
        "{\n",
        "    printf(\"Hello!\");\n",
        "\n",
        "    return 0;\n",
        "}\n"
      ],
      "execution_count": null,
      "outputs": [
        {
          "output_type": "stream",
          "name": "stdout",
          "text": [
            "Overwriting 01hello.c\n"
          ]
        }
      ]
    },
    {
      "cell_type": "code",
      "metadata": {
        "colab": {
          "base_uri": "https://localhost:8080/"
        },
        "id": "ULlsvYjMEDnL",
        "outputId": "52e46c79-7f97-4051-8568-96d62e10944a"
      },
      "source": [
        "! clang 01hello.c && ./a.out"
      ],
      "execution_count": null,
      "outputs": [
        {
          "output_type": "stream",
          "name": "stdout",
          "text": [
            "Hello!"
          ]
        }
      ]
    }
  ]
}