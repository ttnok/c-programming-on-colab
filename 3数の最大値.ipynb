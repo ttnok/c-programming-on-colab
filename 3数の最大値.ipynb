{
  "nbformat": 4,
  "nbformat_minor": 0,
  "metadata": {
    "colab": {
      "name": "3数の最大値.ipynb",
      "provenance": [],
      "authorship_tag": "ABX9TyMAJTpbON+pLGpHQJLrJOX2",
      "include_colab_link": true
    },
    "kernelspec": {
      "name": "python3",
      "display_name": "Python 3"
    },
    "language_info": {
      "name": "python"
    }
  },
  "cells": [
    {
      "cell_type": "markdown",
      "metadata": {
        "id": "view-in-github",
        "colab_type": "text"
      },
      "source": [
        "<a href=\"https://colab.research.google.com/github/ttnok/c-programming-on-colab/blob/main/3%E6%95%B0%E3%81%AE%E6%9C%80%E5%A4%A7%E5%80%A4.ipynb\" target=\"_parent\"><img src=\"https://colab.research.google.com/assets/colab-badge.svg\" alt=\"Open In Colab\"/></a>"
      ]
    },
    {
      "cell_type": "markdown",
      "metadata": {
        "id": "GXTaVq150s2S"
      },
      "source": [
        "# 問題\n",
        "\n",
        "次のような動作をするプログラムを作成してください。\n",
        "\n",
        "猫をクリックすると始まります。"
      ]
    },
    {
      "cell_type": "code",
      "metadata": {
        "colab": {
          "base_uri": "https://localhost:8080/",
          "height": 423
        },
        "cellView": "form",
        "id": "qTNGCr5W0Vfh",
        "outputId": "d2cbac0f-bd6f-4e42-e50f-6a105040732b"
      },
      "source": [
        "#@title 3数の最大値を求めるプログラム\n",
        "%%html\n",
        "<iframe src=\"https://scratch.mit.edu/projects/603955150/embed\" allowtransparency=\"true\" width=\"485\" height=\"402\" frameborder=\"0\" scrolling=\"no\" allowfullscreen></iframe>"
      ],
      "execution_count": 1,
      "outputs": [
        {
          "output_type": "display_data",
          "data": {
            "text/html": [
              "<iframe src=\"https://scratch.mit.edu/projects/603955150/embed\" allowtransparency=\"true\" width=\"485\" height=\"402\" frameborder=\"0\" scrolling=\"no\" allowfullscreen></iframe>"
            ],
            "text/plain": [
              "<IPython.core.display.HTML object>"
            ]
          },
          "metadata": {}
        }
      ]
    },
    {
      "cell_type": "markdown",
      "metadata": {
        "id": "B7CMKj4h018U"
      },
      "source": [
        "コード"
      ]
    },
    {
      "cell_type": "code",
      "metadata": {
        "id": "uxTpbYMk04OZ"
      },
      "source": [
        "%%file max3.c\n",
        "#include <stdio.h>\n",
        "\n",
        "int main(void)\n",
        "{\n",
        "\n",
        "    \n",
        "}"
      ],
      "execution_count": null,
      "outputs": []
    },
    {
      "cell_type": "markdown",
      "metadata": {
        "id": "Od5RChWl0-Xo"
      },
      "source": [
        "コンパイル"
      ]
    },
    {
      "cell_type": "code",
      "metadata": {
        "id": "ngzhN-IT1Ai9"
      },
      "source": [
        ""
      ],
      "execution_count": null,
      "outputs": []
    },
    {
      "cell_type": "markdown",
      "metadata": {
        "id": "sSCeKbNu1BFG"
      },
      "source": [
        "実行1"
      ]
    },
    {
      "cell_type": "code",
      "metadata": {
        "id": "H10nSncA1Dtq"
      },
      "source": [
        ""
      ],
      "execution_count": null,
      "outputs": []
    },
    {
      "cell_type": "markdown",
      "metadata": {
        "id": "jUfNooz41GDs"
      },
      "source": [
        "実行2"
      ]
    },
    {
      "cell_type": "code",
      "metadata": {
        "id": "3E6rU11U1GDs"
      },
      "source": [
        ""
      ],
      "execution_count": null,
      "outputs": []
    },
    {
      "cell_type": "markdown",
      "metadata": {
        "id": "Fdtn4lca1GTi"
      },
      "source": [
        "実行3"
      ]
    },
    {
      "cell_type": "code",
      "metadata": {
        "id": "CVMCb5Rq1GTj"
      },
      "source": [
        ""
      ],
      "execution_count": null,
      "outputs": []
    },
    {
      "cell_type": "markdown",
      "metadata": {
        "id": "cC4Zz5cd1GnH"
      },
      "source": [
        "実行4"
      ]
    },
    {
      "cell_type": "code",
      "metadata": {
        "id": "wNWZQRkc1GnI"
      },
      "source": [
        ""
      ],
      "execution_count": null,
      "outputs": []
    },
    {
      "cell_type": "markdown",
      "metadata": {
        "id": "0THjqh921PFV"
      },
      "source": [
        "さらにいろいろなパターンで動作確認をしておこう。"
      ]
    },
    {
      "cell_type": "code",
      "metadata": {
        "id": "gJI9SMX01Tev"
      },
      "source": [
        ""
      ],
      "execution_count": null,
      "outputs": []
    }
  ]
}